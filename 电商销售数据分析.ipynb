{
 "cells": [
  {
   "cell_type": "markdown",
   "metadata": {
    "id": "F368A822FE7841608EA2B3D39CA33EED",
    "jupyter": {},
    "mdEditEnable": false,
    "slideshow": {
     "slide_type": "slide"
    },
    "tags": []
   },
   "source": [
    "# 电商数据分析报告\n"
   ]
  },
  {
   "cell_type": "markdown",
   "metadata": {
    "id": "0A5A7500EFC84E4E9D8CB746521972A2",
    "jupyter": {},
    "mdEditEnable": false,
    "slideshow": {
     "slide_type": "slide"
    },
    "tags": []
   },
   "source": [
    "# 一、数据信息\n",
    "数据来源：电子产品销售分析.csv  **该文件包含2020年4月至2020年11月从大型家用电器和电子产品在线商店购买的数据**\n",
    "\n",
    "说明：数据量：564169 原始字段：12\n",
    "## 字段介绍：\n",
    "Unnamed: 行号\n",
    "\n",
    "event_time：下单时间\n",
    "\n",
    "order_id：订单编号\n",
    "\n",
    "product_id:产品标号\n",
    "\n",
    "category_id :类别编号\n",
    "\n",
    "category_code :类别\n",
    "\n",
    "brand :品牌\n",
    "\n",
    "price :价格\n",
    "\n",
    "user_id :用户编号\n",
    "\n",
    "age :年龄\n",
    "\n",
    "sex :性别\n",
    "\n",
    "local:省份"
   ]
  },
  {
   "cell_type": "markdown",
   "metadata": {
    "id": "8E21452BB7D940FC9AFF85E440DF80FA",
    "jupyter": {},
    "mdEditEnable": false,
    "slideshow": {
     "slide_type": "slide"
    },
    "tags": []
   },
   "source": [
    "# 二、 结论先行\n",
    "1、销售金额、订单量、消费人数、客单价在清明小长假、五一小长假、暑假、开学季、十一小长假，几个假期节点表现不错，尤其是开学季的情况最好，在几个关键的节点开始前，店铺一定要提前储备库存，保证货源。\n",
    "\n",
    "2、北上广销售金额、订单量、消费人数、客单价都优于其他省份，湖南省消费人数少，但是客单价、订单量都表现优异，湖南省潜力巨大，因此要加大对湖南省的宣传力度，增加湖南省的消费人数。\n",
    "\n",
    "3、75%的消费人群购买力不高，对30岁以下的人群主要推荐亲民价格的商品。\n",
    "\n",
    "4、40-50岁的人群购买力高，而且男性对高价格的商品购买力强，因此给40-50岁的男性推荐高价格的商品，对女性推荐较高价格的商品。\n",
    "\n",
    "5、多数用户至少消费了两次，且消费金额与购物次数有较强的正相关，用户消费次数越多销售额越大。可在8天、28天对用户进行召回，引导客户消费。\n",
    "\n",
    "6、订单集中在早晨，8点到13点是消费高峰期，这段时间要注意维持好网站的稳定性。\n",
    "\n",
    "7、店铺可以在1-4月份减少营业人员，5-11月增加营业人员，应对销售高峰期。"
   ]
  },
  {
   "cell_type": "markdown",
   "metadata": {
    "id": "3E510A82B4504D6188C6ACE20D37068B",
    "jupyter": {},
    "mdEditEnable": false,
    "slideshow": {
     "slide_type": "slide"
    },
    "tags": []
   },
   "source": [
    "# 三、分析目的\n",
    "通过分析销售数据来了解在线销售业务的消费情况，分析用户消费数据来分析用户的消费行为，为用户推荐相匹配的商品。\n",
    "\n",
    "## 分析问题：\n",
    "\n",
    "### 店铺销售情况：\n",
    "每月成交额\n",
    "每月销售金额\n",
    "每月消费人数\n",
    "每月订单数量\n",
    "每月客单价\n",
    "不同省份用户数量\n",
    "不同省份订单数量\n",
    "不同省份成交金额\n",
    "订单数随星期分布\n",
    "订单随小时分布\n",
    "\n",
    "### 用户消费行为：\n",
    "用户消费次数\n",
    "用户消费金额\n",
    "消费次数与消费金额关系\n",
    "用户购买周期\n",
    "新用户、活跃用户、不活跃用户、回流用户、回流率\n",
    "复购率和回流率\n",
    "\n",
    "### 消费人群分层情况：\n",
    "按性别分析\n",
    "按年龄段分析\n",
    "按喜好品牌分析"
   ]
  },
  {
   "cell_type": "code",
   "execution_count": 54,
   "metadata": {
    "id": "915967B90A1845A0835DDBD1E226838B",
    "jupyter": {},
    "notebookId": "6048c58f74dfc60016df8841",
    "scrolled": false,
    "slideshow": {
     "slide_type": "slide"
    },
    "tags": []
   },
   "outputs": [],
   "source": [
    "#导入第三方库\n",
    "import os\n",
    "from datetime import datetime\n",
    "import numpy as np\n",
    "import pandas as pd\n",
    "import matplotlib.pyplot as plt\n",
    "import seaborn as sns\n",
    "from sklearn.cluster import KMeans\n",
    "from sklearn.preprocessing import MinMaxScaler\n",
    "%matplotlib inline\n",
    "#设置中文编码和负号的正常显示\n",
    "#plt.rcParams['font.sans-serif']=['SimHei']\n",
    "plt.rcParams['axes.unicode_minus']=False"
   ]
  },
  {
   "cell_type": "code",
   "execution_count": 2,
   "metadata": {
    "id": "A8F84547AD464C6F816431CF6D06BF89",
    "jupyter": {},
    "notebookId": "6048c58f74dfc60016df8841",
    "scrolled": false,
    "slideshow": {
     "slide_type": "slide"
    },
    "tags": []
   },
   "outputs": [
    {
     "data": {
      "text/html": [
       "<div>\n",
       "<style scoped>\n",
       "    .dataframe tbody tr th:only-of-type {\n",
       "        vertical-align: middle;\n",
       "    }\n",
       "\n",
       "    .dataframe tbody tr th {\n",
       "        vertical-align: top;\n",
       "    }\n",
       "\n",
       "    .dataframe thead th {\n",
       "        text-align: right;\n",
       "    }\n",
       "</style>\n",
       "<table border=\"1\" class=\"dataframe\">\n",
       "  <thead>\n",
       "    <tr style=\"text-align: right;\">\n",
       "      <th></th>\n",
       "      <th>Unnamed: 0</th>\n",
       "      <th>event_time</th>\n",
       "      <th>order_id</th>\n",
       "      <th>product_id</th>\n",
       "      <th>category_id</th>\n",
       "      <th>category_code</th>\n",
       "      <th>brand</th>\n",
       "      <th>price</th>\n",
       "      <th>user_id</th>\n",
       "      <th>age</th>\n",
       "      <th>sex</th>\n",
       "      <th>local</th>\n",
       "    </tr>\n",
       "  </thead>\n",
       "  <tbody>\n",
       "    <tr>\n",
       "      <th>0</th>\n",
       "      <td>0</td>\n",
       "      <td>2020-04-24 11:50:39 UTC</td>\n",
       "      <td>2294359932054536986</td>\n",
       "      <td>1515966223509089906</td>\n",
       "      <td>2.268105e+18</td>\n",
       "      <td>electronics.tablet</td>\n",
       "      <td>samsung</td>\n",
       "      <td>162.01</td>\n",
       "      <td>1.515916e+18</td>\n",
       "      <td>24.0</td>\n",
       "      <td>女</td>\n",
       "      <td>海南</td>\n",
       "    </tr>\n",
       "    <tr>\n",
       "      <th>1</th>\n",
       "      <td>1</td>\n",
       "      <td>2020-04-24 11:50:39 UTC</td>\n",
       "      <td>2294359932054536986</td>\n",
       "      <td>1515966223509089906</td>\n",
       "      <td>2.268105e+18</td>\n",
       "      <td>electronics.tablet</td>\n",
       "      <td>samsung</td>\n",
       "      <td>162.01</td>\n",
       "      <td>1.515916e+18</td>\n",
       "      <td>24.0</td>\n",
       "      <td>女</td>\n",
       "      <td>海南</td>\n",
       "    </tr>\n",
       "    <tr>\n",
       "      <th>2</th>\n",
       "      <td>2</td>\n",
       "      <td>2020-04-24 14:37:43 UTC</td>\n",
       "      <td>2294444024058086220</td>\n",
       "      <td>2273948319057183658</td>\n",
       "      <td>2.268105e+18</td>\n",
       "      <td>electronics.audio.headphone</td>\n",
       "      <td>huawei</td>\n",
       "      <td>77.52</td>\n",
       "      <td>1.515916e+18</td>\n",
       "      <td>38.0</td>\n",
       "      <td>女</td>\n",
       "      <td>北京</td>\n",
       "    </tr>\n",
       "    <tr>\n",
       "      <th>3</th>\n",
       "      <td>3</td>\n",
       "      <td>2020-04-24 14:37:43 UTC</td>\n",
       "      <td>2294444024058086220</td>\n",
       "      <td>2273948319057183658</td>\n",
       "      <td>2.268105e+18</td>\n",
       "      <td>electronics.audio.headphone</td>\n",
       "      <td>huawei</td>\n",
       "      <td>77.52</td>\n",
       "      <td>1.515916e+18</td>\n",
       "      <td>38.0</td>\n",
       "      <td>女</td>\n",
       "      <td>北京</td>\n",
       "    </tr>\n",
       "    <tr>\n",
       "      <th>4</th>\n",
       "      <td>4</td>\n",
       "      <td>2020-04-24 19:16:21 UTC</td>\n",
       "      <td>2294584263154074236</td>\n",
       "      <td>2273948316817424439</td>\n",
       "      <td>2.268105e+18</td>\n",
       "      <td>NaN</td>\n",
       "      <td>karcher</td>\n",
       "      <td>217.57</td>\n",
       "      <td>1.515916e+18</td>\n",
       "      <td>32.0</td>\n",
       "      <td>女</td>\n",
       "      <td>广东</td>\n",
       "    </tr>\n",
       "  </tbody>\n",
       "</table>\n",
       "</div>"
      ],
      "text/plain": [
       "   Unnamed: 0               event_time             order_id  \\\n",
       "0           0  2020-04-24 11:50:39 UTC  2294359932054536986   \n",
       "1           1  2020-04-24 11:50:39 UTC  2294359932054536986   \n",
       "2           2  2020-04-24 14:37:43 UTC  2294444024058086220   \n",
       "3           3  2020-04-24 14:37:43 UTC  2294444024058086220   \n",
       "4           4  2020-04-24 19:16:21 UTC  2294584263154074236   \n",
       "\n",
       "            product_id   category_id                category_code    brand  \\\n",
       "0  1515966223509089906  2.268105e+18           electronics.tablet  samsung   \n",
       "1  1515966223509089906  2.268105e+18           electronics.tablet  samsung   \n",
       "2  2273948319057183658  2.268105e+18  electronics.audio.headphone   huawei   \n",
       "3  2273948319057183658  2.268105e+18  electronics.audio.headphone   huawei   \n",
       "4  2273948316817424439  2.268105e+18                          NaN  karcher   \n",
       "\n",
       "    price       user_id   age sex local  \n",
       "0  162.01  1.515916e+18  24.0   女    海南  \n",
       "1  162.01  1.515916e+18  24.0   女    海南  \n",
       "2   77.52  1.515916e+18  38.0   女    北京  \n",
       "3   77.52  1.515916e+18  38.0   女    北京  \n",
       "4  217.57  1.515916e+18  32.0   女    广东  "
      ]
     },
     "execution_count": 2,
     "metadata": {},
     "output_type": "execute_result"
    }
   ],
   "source": [
    "#导入数据\n",
    "df=pd.read_csv(r'C:\\Users\\wuyifff\\Desktop\\电子产品销售分析.csv')\n",
    "df.head()"
   ]
  },
  {
   "cell_type": "code",
   "execution_count": 3,
   "metadata": {
    "id": "A18CBF3F69AF473F8C262C30B3B1C928",
    "jupyter": {},
    "notebookId": "6048c58f74dfc60016df8841",
    "scrolled": false,
    "slideshow": {
     "slide_type": "slide"
    },
    "tags": []
   },
   "outputs": [
    {
     "data": {
      "text/html": [
       "<div>\n",
       "<style scoped>\n",
       "    .dataframe tbody tr th:only-of-type {\n",
       "        vertical-align: middle;\n",
       "    }\n",
       "\n",
       "    .dataframe tbody tr th {\n",
       "        vertical-align: top;\n",
       "    }\n",
       "\n",
       "    .dataframe thead th {\n",
       "        text-align: right;\n",
       "    }\n",
       "</style>\n",
       "<table border=\"1\" class=\"dataframe\">\n",
       "  <thead>\n",
       "    <tr style=\"text-align: right;\">\n",
       "      <th></th>\n",
       "      <th>Unnamed: 0</th>\n",
       "      <th>order_id</th>\n",
       "      <th>product_id</th>\n",
       "      <th>category_id</th>\n",
       "      <th>price</th>\n",
       "      <th>user_id</th>\n",
       "      <th>age</th>\n",
       "    </tr>\n",
       "  </thead>\n",
       "  <tbody>\n",
       "    <tr>\n",
       "      <th>count</th>\n",
       "      <td>5.641690e+05</td>\n",
       "      <td>5.641690e+05</td>\n",
       "      <td>5.641690e+05</td>\n",
       "      <td>5.641690e+05</td>\n",
       "      <td>564169.000000</td>\n",
       "      <td>5.641690e+05</td>\n",
       "      <td>564169.000000</td>\n",
       "    </tr>\n",
       "    <tr>\n",
       "      <th>mean</th>\n",
       "      <td>1.792965e+06</td>\n",
       "      <td>2.370552e+18</td>\n",
       "      <td>1.695711e+18</td>\n",
       "      <td>2.272919e+18</td>\n",
       "      <td>208.269324</td>\n",
       "      <td>1.515916e+18</td>\n",
       "      <td>33.184388</td>\n",
       "    </tr>\n",
       "    <tr>\n",
       "      <th>std</th>\n",
       "      <td>7.745342e+05</td>\n",
       "      <td>2.025138e+16</td>\n",
       "      <td>3.290688e+17</td>\n",
       "      <td>2.158282e+16</td>\n",
       "      <td>304.559875</td>\n",
       "      <td>2.379056e+07</td>\n",
       "      <td>10.122088</td>\n",
       "    </tr>\n",
       "    <tr>\n",
       "      <th>min</th>\n",
       "      <td>0.000000e+00</td>\n",
       "      <td>2.294360e+18</td>\n",
       "      <td>1.515966e+18</td>\n",
       "      <td>2.268105e+18</td>\n",
       "      <td>0.000000</td>\n",
       "      <td>1.515916e+18</td>\n",
       "      <td>16.000000</td>\n",
       "    </tr>\n",
       "    <tr>\n",
       "      <th>25%</th>\n",
       "      <td>1.658965e+06</td>\n",
       "      <td>2.353294e+18</td>\n",
       "      <td>1.515966e+18</td>\n",
       "      <td>2.268105e+18</td>\n",
       "      <td>23.130000</td>\n",
       "      <td>1.515916e+18</td>\n",
       "      <td>24.000000</td>\n",
       "    </tr>\n",
       "    <tr>\n",
       "      <th>50%</th>\n",
       "      <td>1.861597e+06</td>\n",
       "      <td>2.376886e+18</td>\n",
       "      <td>1.515966e+18</td>\n",
       "      <td>2.268105e+18</td>\n",
       "      <td>87.940000</td>\n",
       "      <td>1.515916e+18</td>\n",
       "      <td>33.000000</td>\n",
       "    </tr>\n",
       "    <tr>\n",
       "      <th>75%</th>\n",
       "      <td>2.473370e+06</td>\n",
       "      <td>2.388441e+18</td>\n",
       "      <td>1.515966e+18</td>\n",
       "      <td>2.268105e+18</td>\n",
       "      <td>277.750000</td>\n",
       "      <td>1.515916e+18</td>\n",
       "      <td>42.000000</td>\n",
       "    </tr>\n",
       "    <tr>\n",
       "      <th>max</th>\n",
       "      <td>2.633520e+06</td>\n",
       "      <td>2.388441e+18</td>\n",
       "      <td>2.388434e+18</td>\n",
       "      <td>2.374499e+18</td>\n",
       "      <td>18328.680000</td>\n",
       "      <td>1.515916e+18</td>\n",
       "      <td>50.000000</td>\n",
       "    </tr>\n",
       "  </tbody>\n",
       "</table>\n",
       "</div>"
      ],
      "text/plain": [
       "         Unnamed: 0      order_id    product_id   category_id          price  \\\n",
       "count  5.641690e+05  5.641690e+05  5.641690e+05  5.641690e+05  564169.000000   \n",
       "mean   1.792965e+06  2.370552e+18  1.695711e+18  2.272919e+18     208.269324   \n",
       "std    7.745342e+05  2.025138e+16  3.290688e+17  2.158282e+16     304.559875   \n",
       "min    0.000000e+00  2.294360e+18  1.515966e+18  2.268105e+18       0.000000   \n",
       "25%    1.658965e+06  2.353294e+18  1.515966e+18  2.268105e+18      23.130000   \n",
       "50%    1.861597e+06  2.376886e+18  1.515966e+18  2.268105e+18      87.940000   \n",
       "75%    2.473370e+06  2.388441e+18  1.515966e+18  2.268105e+18     277.750000   \n",
       "max    2.633520e+06  2.388441e+18  2.388434e+18  2.374499e+18   18328.680000   \n",
       "\n",
       "            user_id            age  \n",
       "count  5.641690e+05  564169.000000  \n",
       "mean   1.515916e+18      33.184388  \n",
       "std    2.379056e+07      10.122088  \n",
       "min    1.515916e+18      16.000000  \n",
       "25%    1.515916e+18      24.000000  \n",
       "50%    1.515916e+18      33.000000  \n",
       "75%    1.515916e+18      42.000000  \n",
       "max    1.515916e+18      50.000000  "
      ]
     },
     "execution_count": 3,
     "metadata": {},
     "output_type": "execute_result"
    }
   ],
   "source": [
    "df.describe()"
   ]
  },
  {
   "cell_type": "markdown",
   "metadata": {
    "id": "7018FA46E5BA483792D6A3D6E86B569E",
    "jupyter": {},
    "mdEditEnable": false,
    "notebookId": "6048c58f74dfc60016df8841",
    "slideshow": {
     "slide_type": "slide"
    },
    "tags": []
   },
   "source": [
    "### 数据清洗"
   ]
  },
  {
   "cell_type": "code",
   "execution_count": 4,
   "metadata": {
    "id": "259C45ADFA33497C9830174542F99EF9",
    "jupyter": {},
    "notebookId": "6048c58f74dfc60016df8841",
    "scrolled": false,
    "slideshow": {
     "slide_type": "slide"
    },
    "tags": []
   },
   "outputs": [],
   "source": [
    "#数据清洗和处理\n",
    "#数据类型转化\n",
    "df['event_time'] = pd.to_datetime(df['event_time'].str[:19],format=\"%Y-%m-%d %H:%M:%S\")"
   ]
  },
  {
   "cell_type": "code",
   "execution_count": 5,
   "metadata": {
    "id": "909632F3A5FB4FF391AD92CB455D3A85",
    "jupyter": {},
    "notebookId": "6048c58f74dfc60016df8841",
    "scrolled": false,
    "slideshow": {
     "slide_type": "slide"
    },
    "tags": []
   },
   "outputs": [],
   "source": [
    "df['event_time'] = pd.to_datetime(df['event_time'])"
   ]
  },
  {
   "cell_type": "code",
   "execution_count": 6,
   "metadata": {
    "id": "E2D035BD8C954304B70030AE77C0BAF9",
    "jupyter": {},
    "notebookId": "6048c58f74dfc60016df8841",
    "scrolled": false,
    "slideshow": {
     "slide_type": "slide"
    },
    "tags": []
   },
   "outputs": [],
   "source": [
    "#计算时间变量\n",
    "df['Month']=df['event_time'].dt.month\n",
    "df['Day'] = df['event_time'].dt.day\n",
    "df['Dayofweek']=df['event_time'].dt.dayofweek\n",
    "df['hour']=df['event_time'].dt.hour"
   ]
  },
  {
   "cell_type": "code",
   "execution_count": 7,
   "metadata": {
    "id": "5FBD8E8A156841559C09F74EC4D7799D",
    "jupyter": {},
    "notebookId": "6048c58f74dfc60016df8841",
    "scrolled": false,
    "slideshow": {
     "slide_type": "slide"
    },
    "tags": []
   },
   "outputs": [
    {
     "data": {
      "text/html": [
       "<div>\n",
       "<style scoped>\n",
       "    .dataframe tbody tr th:only-of-type {\n",
       "        vertical-align: middle;\n",
       "    }\n",
       "\n",
       "    .dataframe tbody tr th {\n",
       "        vertical-align: top;\n",
       "    }\n",
       "\n",
       "    .dataframe thead th {\n",
       "        text-align: right;\n",
       "    }\n",
       "</style>\n",
       "<table border=\"1\" class=\"dataframe\">\n",
       "  <thead>\n",
       "    <tr style=\"text-align: right;\">\n",
       "      <th></th>\n",
       "      <th>Unnamed: 0</th>\n",
       "      <th>event_time</th>\n",
       "      <th>order_id</th>\n",
       "      <th>product_id</th>\n",
       "      <th>category_id</th>\n",
       "      <th>category_code</th>\n",
       "      <th>brand</th>\n",
       "      <th>price</th>\n",
       "      <th>user_id</th>\n",
       "      <th>age</th>\n",
       "      <th>sex</th>\n",
       "      <th>local</th>\n",
       "      <th>Month</th>\n",
       "      <th>Day</th>\n",
       "      <th>Dayofweek</th>\n",
       "      <th>hour</th>\n",
       "    </tr>\n",
       "  </thead>\n",
       "  <tbody>\n",
       "    <tr>\n",
       "      <th>0</th>\n",
       "      <td>0</td>\n",
       "      <td>2020-04-24 11:50:39</td>\n",
       "      <td>2294359932054536986</td>\n",
       "      <td>1515966223509089906</td>\n",
       "      <td>2.268105e+18</td>\n",
       "      <td>electronics.tablet</td>\n",
       "      <td>samsung</td>\n",
       "      <td>162.01</td>\n",
       "      <td>1.515916e+18</td>\n",
       "      <td>24.0</td>\n",
       "      <td>女</td>\n",
       "      <td>海南</td>\n",
       "      <td>4</td>\n",
       "      <td>24</td>\n",
       "      <td>4</td>\n",
       "      <td>11</td>\n",
       "    </tr>\n",
       "    <tr>\n",
       "      <th>1</th>\n",
       "      <td>1</td>\n",
       "      <td>2020-04-24 11:50:39</td>\n",
       "      <td>2294359932054536986</td>\n",
       "      <td>1515966223509089906</td>\n",
       "      <td>2.268105e+18</td>\n",
       "      <td>electronics.tablet</td>\n",
       "      <td>samsung</td>\n",
       "      <td>162.01</td>\n",
       "      <td>1.515916e+18</td>\n",
       "      <td>24.0</td>\n",
       "      <td>女</td>\n",
       "      <td>海南</td>\n",
       "      <td>4</td>\n",
       "      <td>24</td>\n",
       "      <td>4</td>\n",
       "      <td>11</td>\n",
       "    </tr>\n",
       "    <tr>\n",
       "      <th>2</th>\n",
       "      <td>2</td>\n",
       "      <td>2020-04-24 14:37:43</td>\n",
       "      <td>2294444024058086220</td>\n",
       "      <td>2273948319057183658</td>\n",
       "      <td>2.268105e+18</td>\n",
       "      <td>electronics.audio.headphone</td>\n",
       "      <td>huawei</td>\n",
       "      <td>77.52</td>\n",
       "      <td>1.515916e+18</td>\n",
       "      <td>38.0</td>\n",
       "      <td>女</td>\n",
       "      <td>北京</td>\n",
       "      <td>4</td>\n",
       "      <td>24</td>\n",
       "      <td>4</td>\n",
       "      <td>14</td>\n",
       "    </tr>\n",
       "    <tr>\n",
       "      <th>3</th>\n",
       "      <td>3</td>\n",
       "      <td>2020-04-24 14:37:43</td>\n",
       "      <td>2294444024058086220</td>\n",
       "      <td>2273948319057183658</td>\n",
       "      <td>2.268105e+18</td>\n",
       "      <td>electronics.audio.headphone</td>\n",
       "      <td>huawei</td>\n",
       "      <td>77.52</td>\n",
       "      <td>1.515916e+18</td>\n",
       "      <td>38.0</td>\n",
       "      <td>女</td>\n",
       "      <td>北京</td>\n",
       "      <td>4</td>\n",
       "      <td>24</td>\n",
       "      <td>4</td>\n",
       "      <td>14</td>\n",
       "    </tr>\n",
       "    <tr>\n",
       "      <th>4</th>\n",
       "      <td>4</td>\n",
       "      <td>2020-04-24 19:16:21</td>\n",
       "      <td>2294584263154074236</td>\n",
       "      <td>2273948316817424439</td>\n",
       "      <td>2.268105e+18</td>\n",
       "      <td>NaN</td>\n",
       "      <td>karcher</td>\n",
       "      <td>217.57</td>\n",
       "      <td>1.515916e+18</td>\n",
       "      <td>32.0</td>\n",
       "      <td>女</td>\n",
       "      <td>广东</td>\n",
       "      <td>4</td>\n",
       "      <td>24</td>\n",
       "      <td>4</td>\n",
       "      <td>19</td>\n",
       "    </tr>\n",
       "  </tbody>\n",
       "</table>\n",
       "</div>"
      ],
      "text/plain": [
       "   Unnamed: 0          event_time             order_id           product_id  \\\n",
       "0           0 2020-04-24 11:50:39  2294359932054536986  1515966223509089906   \n",
       "1           1 2020-04-24 11:50:39  2294359932054536986  1515966223509089906   \n",
       "2           2 2020-04-24 14:37:43  2294444024058086220  2273948319057183658   \n",
       "3           3 2020-04-24 14:37:43  2294444024058086220  2273948319057183658   \n",
       "4           4 2020-04-24 19:16:21  2294584263154074236  2273948316817424439   \n",
       "\n",
       "    category_id                category_code    brand   price       user_id  \\\n",
       "0  2.268105e+18           electronics.tablet  samsung  162.01  1.515916e+18   \n",
       "1  2.268105e+18           electronics.tablet  samsung  162.01  1.515916e+18   \n",
       "2  2.268105e+18  electronics.audio.headphone   huawei   77.52  1.515916e+18   \n",
       "3  2.268105e+18  electronics.audio.headphone   huawei   77.52  1.515916e+18   \n",
       "4  2.268105e+18                          NaN  karcher  217.57  1.515916e+18   \n",
       "\n",
       "    age sex local  Month  Day  Dayofweek  hour  \n",
       "0  24.0   女    海南      4   24          4    11  \n",
       "1  24.0   女    海南      4   24          4    11  \n",
       "2  38.0   女    北京      4   24          4    14  \n",
       "3  38.0   女    北京      4   24          4    14  \n",
       "4  32.0   女    广东      4   24          4    19  "
      ]
     },
     "execution_count": 7,
     "metadata": {},
     "output_type": "execute_result"
    }
   ],
   "source": [
    "df.head()"
   ]
  },
  {
   "cell_type": "code",
   "execution_count": 8,
   "metadata": {
    "id": "CD1A6008BD3B4C038399166AE97DCAC4",
    "jupyter": {},
    "notebookId": "6048c58f74dfc60016df8841",
    "scrolled": false,
    "slideshow": {
     "slide_type": "slide"
    },
    "tags": []
   },
   "outputs": [
    {
     "data": {
      "text/plain": [
       "Unnamed: 0            0\n",
       "event_time            0\n",
       "order_id              0\n",
       "product_id            0\n",
       "category_id           0\n",
       "category_code    129370\n",
       "brand             27224\n",
       "price                 0\n",
       "user_id               0\n",
       "age                   0\n",
       "sex                   0\n",
       "local                 0\n",
       "Month                 0\n",
       "Day                   0\n",
       "Dayofweek             0\n",
       "hour                  0\n",
       "dtype: int64"
      ]
     },
     "execution_count": 8,
     "metadata": {},
     "output_type": "execute_result"
    }
   ],
   "source": [
    "np.sum(df.isnull())"
   ]
  },
  {
   "cell_type": "markdown",
   "metadata": {
    "id": "15E407372707481C81EA2673880BB059",
    "jupyter": {},
    "mdEditEnable": false,
    "notebookId": "6048c58f74dfc60016df8841",
    "slideshow": {
     "slide_type": "slide"
    },
    "tags": []
   },
   "source": [
    "\n",
    "有两列中有数据缺失值，类别列缺失129370条，品牌列缺失27224条，这两列数值缺失对店铺销售情况的分析和用户消费行为的分析没主要影响，但是其他数据有重要影响，所以这两列缺失值由missing填充。"
   ]
  },
  {
   "cell_type": "code",
   "execution_count": 9,
   "metadata": {
    "id": "28E800B9A1B14E66880760CEF96DEC24",
    "jupyter": {},
    "notebookId": "6048c58f74dfc60016df8841",
    "scrolled": false,
    "slideshow": {
     "slide_type": "slide"
    },
    "tags": []
   },
   "outputs": [
    {
     "data": {
      "text/html": [
       "<div>\n",
       "<style scoped>\n",
       "    .dataframe tbody tr th:only-of-type {\n",
       "        vertical-align: middle;\n",
       "    }\n",
       "\n",
       "    .dataframe tbody tr th {\n",
       "        vertical-align: top;\n",
       "    }\n",
       "\n",
       "    .dataframe thead th {\n",
       "        text-align: right;\n",
       "    }\n",
       "</style>\n",
       "<table border=\"1\" class=\"dataframe\">\n",
       "  <thead>\n",
       "    <tr style=\"text-align: right;\">\n",
       "      <th></th>\n",
       "      <th>Unnamed: 0</th>\n",
       "      <th>event_time</th>\n",
       "      <th>order_id</th>\n",
       "      <th>product_id</th>\n",
       "      <th>category_id</th>\n",
       "      <th>category_code</th>\n",
       "      <th>brand</th>\n",
       "      <th>price</th>\n",
       "      <th>user_id</th>\n",
       "      <th>age</th>\n",
       "      <th>sex</th>\n",
       "      <th>local</th>\n",
       "      <th>Month</th>\n",
       "      <th>Day</th>\n",
       "      <th>Dayofweek</th>\n",
       "      <th>hour</th>\n",
       "    </tr>\n",
       "  </thead>\n",
       "  <tbody>\n",
       "    <tr>\n",
       "      <th>0</th>\n",
       "      <td>0</td>\n",
       "      <td>2020-04-24 11:50:39</td>\n",
       "      <td>2294359932054536986</td>\n",
       "      <td>1515966223509089906</td>\n",
       "      <td>2.268105e+18</td>\n",
       "      <td>electronics.tablet</td>\n",
       "      <td>samsung</td>\n",
       "      <td>162.01</td>\n",
       "      <td>1.515916e+18</td>\n",
       "      <td>24.0</td>\n",
       "      <td>女</td>\n",
       "      <td>海南</td>\n",
       "      <td>4</td>\n",
       "      <td>24</td>\n",
       "      <td>4</td>\n",
       "      <td>11</td>\n",
       "    </tr>\n",
       "    <tr>\n",
       "      <th>1</th>\n",
       "      <td>1</td>\n",
       "      <td>2020-04-24 11:50:39</td>\n",
       "      <td>2294359932054536986</td>\n",
       "      <td>1515966223509089906</td>\n",
       "      <td>2.268105e+18</td>\n",
       "      <td>electronics.tablet</td>\n",
       "      <td>samsung</td>\n",
       "      <td>162.01</td>\n",
       "      <td>1.515916e+18</td>\n",
       "      <td>24.0</td>\n",
       "      <td>女</td>\n",
       "      <td>海南</td>\n",
       "      <td>4</td>\n",
       "      <td>24</td>\n",
       "      <td>4</td>\n",
       "      <td>11</td>\n",
       "    </tr>\n",
       "    <tr>\n",
       "      <th>2</th>\n",
       "      <td>2</td>\n",
       "      <td>2020-04-24 14:37:43</td>\n",
       "      <td>2294444024058086220</td>\n",
       "      <td>2273948319057183658</td>\n",
       "      <td>2.268105e+18</td>\n",
       "      <td>electronics.audio.headphone</td>\n",
       "      <td>huawei</td>\n",
       "      <td>77.52</td>\n",
       "      <td>1.515916e+18</td>\n",
       "      <td>38.0</td>\n",
       "      <td>女</td>\n",
       "      <td>北京</td>\n",
       "      <td>4</td>\n",
       "      <td>24</td>\n",
       "      <td>4</td>\n",
       "      <td>14</td>\n",
       "    </tr>\n",
       "    <tr>\n",
       "      <th>3</th>\n",
       "      <td>3</td>\n",
       "      <td>2020-04-24 14:37:43</td>\n",
       "      <td>2294444024058086220</td>\n",
       "      <td>2273948319057183658</td>\n",
       "      <td>2.268105e+18</td>\n",
       "      <td>electronics.audio.headphone</td>\n",
       "      <td>huawei</td>\n",
       "      <td>77.52</td>\n",
       "      <td>1.515916e+18</td>\n",
       "      <td>38.0</td>\n",
       "      <td>女</td>\n",
       "      <td>北京</td>\n",
       "      <td>4</td>\n",
       "      <td>24</td>\n",
       "      <td>4</td>\n",
       "      <td>14</td>\n",
       "    </tr>\n",
       "    <tr>\n",
       "      <th>4</th>\n",
       "      <td>4</td>\n",
       "      <td>2020-04-24 19:16:21</td>\n",
       "      <td>2294584263154074236</td>\n",
       "      <td>2273948316817424439</td>\n",
       "      <td>2.268105e+18</td>\n",
       "      <td>missing</td>\n",
       "      <td>karcher</td>\n",
       "      <td>217.57</td>\n",
       "      <td>1.515916e+18</td>\n",
       "      <td>32.0</td>\n",
       "      <td>女</td>\n",
       "      <td>广东</td>\n",
       "      <td>4</td>\n",
       "      <td>24</td>\n",
       "      <td>4</td>\n",
       "      <td>19</td>\n",
       "    </tr>\n",
       "  </tbody>\n",
       "</table>\n",
       "</div>"
      ],
      "text/plain": [
       "   Unnamed: 0          event_time             order_id           product_id  \\\n",
       "0           0 2020-04-24 11:50:39  2294359932054536986  1515966223509089906   \n",
       "1           1 2020-04-24 11:50:39  2294359932054536986  1515966223509089906   \n",
       "2           2 2020-04-24 14:37:43  2294444024058086220  2273948319057183658   \n",
       "3           3 2020-04-24 14:37:43  2294444024058086220  2273948319057183658   \n",
       "4           4 2020-04-24 19:16:21  2294584263154074236  2273948316817424439   \n",
       "\n",
       "    category_id                category_code    brand   price       user_id  \\\n",
       "0  2.268105e+18           electronics.tablet  samsung  162.01  1.515916e+18   \n",
       "1  2.268105e+18           electronics.tablet  samsung  162.01  1.515916e+18   \n",
       "2  2.268105e+18  electronics.audio.headphone   huawei   77.52  1.515916e+18   \n",
       "3  2.268105e+18  electronics.audio.headphone   huawei   77.52  1.515916e+18   \n",
       "4  2.268105e+18                      missing  karcher  217.57  1.515916e+18   \n",
       "\n",
       "    age sex local  Month  Day  Dayofweek  hour  \n",
       "0  24.0   女    海南      4   24          4    11  \n",
       "1  24.0   女    海南      4   24          4    11  \n",
       "2  38.0   女    北京      4   24          4    14  \n",
       "3  38.0   女    北京      4   24          4    14  \n",
       "4  32.0   女    广东      4   24          4    19  "
      ]
     },
     "execution_count": 9,
     "metadata": {},
     "output_type": "execute_result"
    }
   ],
   "source": [
    "df.fillna('missing').head()"
   ]
  },
  {
   "cell_type": "code",
   "execution_count": 10,
   "metadata": {
    "id": "13B38253447A48EE8B4674CF4F2DB572",
    "jupyter": {},
    "notebookId": "6048c58f74dfc60016df8841",
    "scrolled": false,
    "slideshow": {
     "slide_type": "slide"
    },
    "tags": []
   },
   "outputs": [
    {
     "data": {
      "text/plain": [
       "Unnamed: 0            0\n",
       "event_time            0\n",
       "order_id              0\n",
       "product_id            0\n",
       "category_id           0\n",
       "category_code    129370\n",
       "brand             27224\n",
       "price                 0\n",
       "user_id               0\n",
       "age                   0\n",
       "sex                   0\n",
       "local                 0\n",
       "Month                 0\n",
       "Day                   0\n",
       "Dayofweek             0\n",
       "hour                  0\n",
       "dtype: int64"
      ]
     },
     "execution_count": 10,
     "metadata": {},
     "output_type": "execute_result"
    }
   ],
   "source": [
    "np.sum(df.isnull())"
   ]
  },
  {
   "cell_type": "code",
   "execution_count": 11,
   "metadata": {
    "id": "F5C5685822154464B1FBB9E55B4BE78A",
    "jupyter": {},
    "notebookId": "6048c58f74dfc60016df8841",
    "scrolled": false,
    "slideshow": {
     "slide_type": "slide"
    },
    "tags": []
   },
   "outputs": [
    {
     "data": {
      "text/plain": [
       "Unnamed: 0       0\n",
       "event_time       0\n",
       "order_id         0\n",
       "product_id       0\n",
       "category_id      0\n",
       "category_code    0\n",
       "brand            0\n",
       "price            0\n",
       "user_id          0\n",
       "age              0\n",
       "sex              0\n",
       "local            0\n",
       "Month            0\n",
       "Day              0\n",
       "Dayofweek        0\n",
       "hour             0\n",
       "dtype: int64"
      ]
     },
     "execution_count": 11,
     "metadata": {},
     "output_type": "execute_result"
    }
   ],
   "source": [
    "df['category_code'].fillna('missing',inplace=True)\n",
    "df['brand'].fillna('missing',inplace=True)\n",
    "np.sum(df.isnull())"
   ]
  },
  {
   "cell_type": "markdown",
   "metadata": {
    "id": "32DB7AB4964C4665ADB1E751B7ACA829",
    "jupyter": {},
    "mdEditEnable": false,
    "notebookId": "6048c58f74dfc60016df8841",
    "slideshow": {
     "slide_type": "slide"
    },
    "tags": []
   },
   "source": [
    "缺失值已全部填充。"
   ]
  },
  {
   "cell_type": "code",
   "execution_count": 12,
   "metadata": {
    "id": "1A5AA068AB0240D9A0E97BF2046EB508",
    "jupyter": {},
    "notebookId": "6048c58f74dfc60016df8841",
    "scrolled": false,
    "slideshow": {
     "slide_type": "slide"
    },
    "tags": []
   },
   "outputs": [
    {
     "data": {
      "text/html": [
       "<div>\n",
       "<style scoped>\n",
       "    .dataframe tbody tr th:only-of-type {\n",
       "        vertical-align: middle;\n",
       "    }\n",
       "\n",
       "    .dataframe tbody tr th {\n",
       "        vertical-align: top;\n",
       "    }\n",
       "\n",
       "    .dataframe thead th {\n",
       "        text-align: right;\n",
       "    }\n",
       "</style>\n",
       "<table border=\"1\" class=\"dataframe\">\n",
       "  <thead>\n",
       "    <tr style=\"text-align: right;\">\n",
       "      <th></th>\n",
       "      <th>Unnamed: 0</th>\n",
       "      <th>event_time</th>\n",
       "      <th>order_id</th>\n",
       "      <th>product_id</th>\n",
       "      <th>category_id</th>\n",
       "      <th>category_code</th>\n",
       "      <th>brand</th>\n",
       "      <th>price</th>\n",
       "      <th>user_id</th>\n",
       "      <th>age</th>\n",
       "      <th>sex</th>\n",
       "      <th>local</th>\n",
       "      <th>Month</th>\n",
       "      <th>Day</th>\n",
       "      <th>Dayofweek</th>\n",
       "      <th>hour</th>\n",
       "    </tr>\n",
       "  </thead>\n",
       "  <tbody>\n",
       "    <tr>\n",
       "      <th>0</th>\n",
       "      <td>0</td>\n",
       "      <td>2020-04-24 11:50:39</td>\n",
       "      <td>2294359932054536986</td>\n",
       "      <td>1515966223509089906</td>\n",
       "      <td>2.268105e+18</td>\n",
       "      <td>electronics.tablet</td>\n",
       "      <td>samsung</td>\n",
       "      <td>162.01</td>\n",
       "      <td>1.515916e+18</td>\n",
       "      <td>24.0</td>\n",
       "      <td>女</td>\n",
       "      <td>海南</td>\n",
       "      <td>4</td>\n",
       "      <td>24</td>\n",
       "      <td>4</td>\n",
       "      <td>11</td>\n",
       "    </tr>\n",
       "    <tr>\n",
       "      <th>1</th>\n",
       "      <td>1</td>\n",
       "      <td>2020-04-24 11:50:39</td>\n",
       "      <td>2294359932054536986</td>\n",
       "      <td>1515966223509089906</td>\n",
       "      <td>2.268105e+18</td>\n",
       "      <td>electronics.tablet</td>\n",
       "      <td>samsung</td>\n",
       "      <td>162.01</td>\n",
       "      <td>1.515916e+18</td>\n",
       "      <td>24.0</td>\n",
       "      <td>女</td>\n",
       "      <td>海南</td>\n",
       "      <td>4</td>\n",
       "      <td>24</td>\n",
       "      <td>4</td>\n",
       "      <td>11</td>\n",
       "    </tr>\n",
       "    <tr>\n",
       "      <th>2</th>\n",
       "      <td>2</td>\n",
       "      <td>2020-04-24 14:37:43</td>\n",
       "      <td>2294444024058086220</td>\n",
       "      <td>2273948319057183658</td>\n",
       "      <td>2.268105e+18</td>\n",
       "      <td>electronics.audio.headphone</td>\n",
       "      <td>huawei</td>\n",
       "      <td>77.52</td>\n",
       "      <td>1.515916e+18</td>\n",
       "      <td>38.0</td>\n",
       "      <td>女</td>\n",
       "      <td>北京</td>\n",
       "      <td>4</td>\n",
       "      <td>24</td>\n",
       "      <td>4</td>\n",
       "      <td>14</td>\n",
       "    </tr>\n",
       "    <tr>\n",
       "      <th>3</th>\n",
       "      <td>3</td>\n",
       "      <td>2020-04-24 14:37:43</td>\n",
       "      <td>2294444024058086220</td>\n",
       "      <td>2273948319057183658</td>\n",
       "      <td>2.268105e+18</td>\n",
       "      <td>electronics.audio.headphone</td>\n",
       "      <td>huawei</td>\n",
       "      <td>77.52</td>\n",
       "      <td>1.515916e+18</td>\n",
       "      <td>38.0</td>\n",
       "      <td>女</td>\n",
       "      <td>北京</td>\n",
       "      <td>4</td>\n",
       "      <td>24</td>\n",
       "      <td>4</td>\n",
       "      <td>14</td>\n",
       "    </tr>\n",
       "    <tr>\n",
       "      <th>4</th>\n",
       "      <td>4</td>\n",
       "      <td>2020-04-24 19:16:21</td>\n",
       "      <td>2294584263154074236</td>\n",
       "      <td>2273948316817424439</td>\n",
       "      <td>2.268105e+18</td>\n",
       "      <td>missing</td>\n",
       "      <td>karcher</td>\n",
       "      <td>217.57</td>\n",
       "      <td>1.515916e+18</td>\n",
       "      <td>32.0</td>\n",
       "      <td>女</td>\n",
       "      <td>广东</td>\n",
       "      <td>4</td>\n",
       "      <td>24</td>\n",
       "      <td>4</td>\n",
       "      <td>19</td>\n",
       "    </tr>\n",
       "    <tr>\n",
       "      <th>...</th>\n",
       "      <td>...</td>\n",
       "      <td>...</td>\n",
       "      <td>...</td>\n",
       "      <td>...</td>\n",
       "      <td>...</td>\n",
       "      <td>...</td>\n",
       "      <td>...</td>\n",
       "      <td>...</td>\n",
       "      <td>...</td>\n",
       "      <td>...</td>\n",
       "      <td>...</td>\n",
       "      <td>...</td>\n",
       "      <td>...</td>\n",
       "      <td>...</td>\n",
       "      <td>...</td>\n",
       "      <td>...</td>\n",
       "    </tr>\n",
       "    <tr>\n",
       "      <th>564164</th>\n",
       "      <td>2633516</td>\n",
       "      <td>2020-11-21 10:10:01</td>\n",
       "      <td>2388440981134693942</td>\n",
       "      <td>1515966223526602848</td>\n",
       "      <td>2.268105e+18</td>\n",
       "      <td>electronics.smartphone</td>\n",
       "      <td>oppo</td>\n",
       "      <td>138.87</td>\n",
       "      <td>1.515916e+18</td>\n",
       "      <td>21.0</td>\n",
       "      <td>男</td>\n",
       "      <td>上海</td>\n",
       "      <td>11</td>\n",
       "      <td>21</td>\n",
       "      <td>5</td>\n",
       "      <td>10</td>\n",
       "    </tr>\n",
       "    <tr>\n",
       "      <th>564165</th>\n",
       "      <td>2633517</td>\n",
       "      <td>2020-11-21 10:10:13</td>\n",
       "      <td>2388440981134693943</td>\n",
       "      <td>1515966223509089282</td>\n",
       "      <td>2.268105e+18</td>\n",
       "      <td>electronics.smartphone</td>\n",
       "      <td>apple</td>\n",
       "      <td>418.96</td>\n",
       "      <td>1.515916e+18</td>\n",
       "      <td>21.0</td>\n",
       "      <td>女</td>\n",
       "      <td>北京</td>\n",
       "      <td>11</td>\n",
       "      <td>21</td>\n",
       "      <td>5</td>\n",
       "      <td>10</td>\n",
       "    </tr>\n",
       "    <tr>\n",
       "      <th>564166</th>\n",
       "      <td>2633518</td>\n",
       "      <td>2020-11-21 10:10:30</td>\n",
       "      <td>2388440981134693944</td>\n",
       "      <td>1515966223509089917</td>\n",
       "      <td>2.268105e+18</td>\n",
       "      <td>appliances.personal.scales</td>\n",
       "      <td>vitek</td>\n",
       "      <td>12.48</td>\n",
       "      <td>1.515916e+18</td>\n",
       "      <td>19.0</td>\n",
       "      <td>女</td>\n",
       "      <td>上海</td>\n",
       "      <td>11</td>\n",
       "      <td>21</td>\n",
       "      <td>5</td>\n",
       "      <td>10</td>\n",
       "    </tr>\n",
       "    <tr>\n",
       "      <th>564167</th>\n",
       "      <td>2633519</td>\n",
       "      <td>2020-11-21 10:10:30</td>\n",
       "      <td>2388440981134693944</td>\n",
       "      <td>2273948184839454837</td>\n",
       "      <td>2.268105e+18</td>\n",
       "      <td>missing</td>\n",
       "      <td>moulinex</td>\n",
       "      <td>41.64</td>\n",
       "      <td>1.515916e+18</td>\n",
       "      <td>19.0</td>\n",
       "      <td>女</td>\n",
       "      <td>上海</td>\n",
       "      <td>11</td>\n",
       "      <td>21</td>\n",
       "      <td>5</td>\n",
       "      <td>10</td>\n",
       "    </tr>\n",
       "    <tr>\n",
       "      <th>564168</th>\n",
       "      <td>2633520</td>\n",
       "      <td>2020-11-21 10:10:30</td>\n",
       "      <td>2388440981134693944</td>\n",
       "      <td>1515966223509127566</td>\n",
       "      <td>2.268105e+18</td>\n",
       "      <td>appliances.kitchen.blender</td>\n",
       "      <td>redmond</td>\n",
       "      <td>53.22</td>\n",
       "      <td>1.515916e+18</td>\n",
       "      <td>19.0</td>\n",
       "      <td>女</td>\n",
       "      <td>上海</td>\n",
       "      <td>11</td>\n",
       "      <td>21</td>\n",
       "      <td>5</td>\n",
       "      <td>10</td>\n",
       "    </tr>\n",
       "  </tbody>\n",
       "</table>\n",
       "<p>564169 rows × 16 columns</p>\n",
       "</div>"
      ],
      "text/plain": [
       "        Unnamed: 0          event_time             order_id  \\\n",
       "0                0 2020-04-24 11:50:39  2294359932054536986   \n",
       "1                1 2020-04-24 11:50:39  2294359932054536986   \n",
       "2                2 2020-04-24 14:37:43  2294444024058086220   \n",
       "3                3 2020-04-24 14:37:43  2294444024058086220   \n",
       "4                4 2020-04-24 19:16:21  2294584263154074236   \n",
       "...            ...                 ...                  ...   \n",
       "564164     2633516 2020-11-21 10:10:01  2388440981134693942   \n",
       "564165     2633517 2020-11-21 10:10:13  2388440981134693943   \n",
       "564166     2633518 2020-11-21 10:10:30  2388440981134693944   \n",
       "564167     2633519 2020-11-21 10:10:30  2388440981134693944   \n",
       "564168     2633520 2020-11-21 10:10:30  2388440981134693944   \n",
       "\n",
       "                 product_id   category_id                category_code  \\\n",
       "0       1515966223509089906  2.268105e+18           electronics.tablet   \n",
       "1       1515966223509089906  2.268105e+18           electronics.tablet   \n",
       "2       2273948319057183658  2.268105e+18  electronics.audio.headphone   \n",
       "3       2273948319057183658  2.268105e+18  electronics.audio.headphone   \n",
       "4       2273948316817424439  2.268105e+18                      missing   \n",
       "...                     ...           ...                          ...   \n",
       "564164  1515966223526602848  2.268105e+18       electronics.smartphone   \n",
       "564165  1515966223509089282  2.268105e+18       electronics.smartphone   \n",
       "564166  1515966223509089917  2.268105e+18   appliances.personal.scales   \n",
       "564167  2273948184839454837  2.268105e+18                      missing   \n",
       "564168  1515966223509127566  2.268105e+18   appliances.kitchen.blender   \n",
       "\n",
       "           brand   price       user_id   age sex local  Month  Day  Dayofweek  \\\n",
       "0        samsung  162.01  1.515916e+18  24.0   女    海南      4   24          4   \n",
       "1        samsung  162.01  1.515916e+18  24.0   女    海南      4   24          4   \n",
       "2         huawei   77.52  1.515916e+18  38.0   女    北京      4   24          4   \n",
       "3         huawei   77.52  1.515916e+18  38.0   女    北京      4   24          4   \n",
       "4        karcher  217.57  1.515916e+18  32.0   女    广东      4   24          4   \n",
       "...          ...     ...           ...   ...  ..   ...    ...  ...        ...   \n",
       "564164      oppo  138.87  1.515916e+18  21.0   男    上海     11   21          5   \n",
       "564165     apple  418.96  1.515916e+18  21.0   女    北京     11   21          5   \n",
       "564166     vitek   12.48  1.515916e+18  19.0   女    上海     11   21          5   \n",
       "564167  moulinex   41.64  1.515916e+18  19.0   女    上海     11   21          5   \n",
       "564168   redmond   53.22  1.515916e+18  19.0   女    上海     11   21          5   \n",
       "\n",
       "        hour  \n",
       "0         11  \n",
       "1         11  \n",
       "2         14  \n",
       "3         14  \n",
       "4         19  \n",
       "...      ...  \n",
       "564164    10  \n",
       "564165    10  \n",
       "564166    10  \n",
       "564167    10  \n",
       "564168    10  \n",
       "\n",
       "[564169 rows x 16 columns]"
      ]
     },
     "execution_count": 12,
     "metadata": {},
     "output_type": "execute_result"
    }
   ],
   "source": [
    "#重复值检查和处理\n",
    "df.duplicated()\n",
    "df.drop_duplicates()"
   ]
  },
  {
   "cell_type": "markdown",
   "metadata": {
    "id": "3D353FA3AFD947AD86D48EAF5390E684",
    "jupyter": {},
    "mdEditEnable": false,
    "notebookId": "6048c58f74dfc60016df8841",
    "slideshow": {
     "slide_type": "slide"
    },
    "tags": []
   },
   "source": [
    "## 探索性数据分析\n",
    "### 店铺销售情况分析"
   ]
  },
  {
   "cell_type": "markdown",
   "metadata": {
    "id": "55C871ABB97949A08C2EEA28E64A296D",
    "jupyter": {},
    "mdEditEnable": false,
    "notebookId": "6048c58f74dfc60016df8841",
    "slideshow": {
     "slide_type": "slide"
    },
    "tags": []
   },
   "source": [
    "#### 每月成交金额"
   ]
  },
  {
   "cell_type": "code",
   "execution_count": 13,
   "metadata": {
    "id": "958293B3D58A4B69840608EC15EB6086",
    "jupyter": {},
    "notebookId": "6048c58f74dfc60016df8841",
    "scrolled": false,
    "slideshow": {
     "slide_type": "slide"
    },
    "tags": []
   },
   "outputs": [
    {
     "data": {
      "image/png": "[encoded data removed]",
      "text/plain": [
       "<Figure size 720x360 with 1 Axes>"
      ]
     },
     "metadata": {
      "needs_background": "light"
     },
     "output_type": "display_data"
    }
   ],
   "source": [
    "#商店消费情况绘图函数\n",
    "plt.rcParams['font.sans-serif']=['SimHei']\n",
    "plt.rcParams['axes.unicode_minus']=False\n",
    "def store_plot(data,xlab,ylab,title):\n",
    "    plt.figure(figsize=(10,5))\n",
    "    plt.plot(data)\n",
    "    plt.xlabel(xlab)\n",
    "    plt.ylabel(ylab)\n",
    "    plt.title(title)\n",
    "#每月成交金额，包含未成单金额\n",
    "store_plot(data=df[df['price']>0].groupby('Month')['price'].sum(),\n",
    "          xlab='月份',\n",
    "          ylab='成交金额',\n",
    "          title='每月成交金额')"
   ]
  },
  {
   "cell_type": "markdown",
   "metadata": {
    "id": "DEFFF42B475E446A818EA4D851C5AFCC",
    "jupyter": {},
    "mdEditEnable": false,
    "notebookId": "6048c58f74dfc60016df8841",
    "slideshow": {
     "slide_type": "slide"
    },
    "tags": []
   },
   "source": [
    "#### 每月销售金额"
   ]
  },
  {
   "cell_type": "code",
   "execution_count": 14,
   "metadata": {
    "id": "28B9DCFCEE844EB78F14B713C956313C",
    "jupyter": {},
    "notebookId": "6048c58f74dfc60016df8841",
    "scrolled": false,
    "slideshow": {
     "slide_type": "slide"
    },
    "tags": []
   },
   "outputs": [
    {
     "data": {
      "image/png": "[encoded data removed]",
      "text/plain": [
       "<Figure size 720x360 with 1 Axes>"
      ]
     },
     "metadata": {
      "needs_background": "light"
     },
     "output_type": "display_data"
    }
   ],
   "source": [
    "store_plot(data=df.groupby('Month')['price'].sum(),\n",
    "          xlab = '月份',\n",
    "          ylab = '销售金额',\n",
    "          title = '每月销售金额')"
   ]
  },
  {
   "cell_type": "markdown",
   "metadata": {
    "id": "EF76D0974A3D4D8E8809CBE9BF893DD8",
    "jupyter": {},
    "mdEditEnable": false,
    "notebookId": "6048c58f74dfc60016df8841",
    "slideshow": {
     "slide_type": "slide"
    },
    "tags": []
   },
   "source": [
    "#### 每月消费人数"
   ]
  },
  {
   "cell_type": "code",
   "execution_count": 15,
   "metadata": {
    "id": "B05AB421D4F3495E82211F8B3DE2BD00",
    "jupyter": {},
    "notebookId": "6048c58f74dfc60016df8841",
    "scrolled": false,
    "slideshow": {
     "slide_type": "slide"
    },
    "tags": []
   },
   "outputs": [
    {
     "data": {
      "image/png": "[encoded data removed]",
      "text/plain": [
       "<Figure size 720x360 with 1 Axes>"
      ]
     },
     "metadata": {
      "needs_background": "light"
     },
     "output_type": "display_data"
    }
   ],
   "source": [
    "store_plot(data=df[df['price']>0].groupby('Month')['user_id'].nunique(),\n",
    "          xlab='月份',\n",
    "          ylab='消费人数',\n",
    "          title='每月消费人数')"
   ]
  },
  {
   "cell_type": "markdown",
   "metadata": {
    "id": "8FB241667EF54C6F8A0AB43FD8687698",
    "jupyter": {},
    "mdEditEnable": false,
    "notebookId": "6048c58f74dfc60016df8841",
    "slideshow": {
     "slide_type": "slide"
    },
    "tags": []
   },
   "source": [
    "每月消费人数1月到8月呈上升趋势，8到11月呈现下降趋势，由两个高峰期，第一在5月份，第二个高峰期在6月到9月份，推测，可能是五一小长假、暑假和开学季引起了消费人数的上升。"
   ]
  },
  {
   "cell_type": "markdown",
   "metadata": {
    "id": "CD66E300C85844BDBE1B72F5D8F0B1E6",
    "jupyter": {},
    "mdEditEnable": false,
    "notebookId": "6048c58f74dfc60016df8841",
    "slideshow": {
     "slide_type": "slide"
    },
    "tags": []
   },
   "source": [
    "#### 每月订单数量"
   ]
  },
  {
   "cell_type": "code",
   "execution_count": 16,
   "metadata": {
    "id": "442559DBFB8947169760344460496561",
    "jupyter": {},
    "notebookId": "6048c58f74dfc60016df8841",
    "scrolled": false,
    "slideshow": {
     "slide_type": "slide"
    },
    "tags": []
   },
   "outputs": [
    {
     "data": {
      "image/png": "[encoded data removed]",
      "text/plain": [
       "<Figure size 720x360 with 1 Axes>"
      ]
     },
     "metadata": {
      "needs_background": "light"
     },
     "output_type": "display_data"
    }
   ],
   "source": [
    "store_plot(data=df[df['price']>0].groupby('Month')['order_id'].nunique(),\n",
    "          xlab='月份',\n",
    "          ylab='订单数量',\n",
    "          title='每月订单数量')"
   ]
  },
  {
   "cell_type": "markdown",
   "metadata": {
    "id": "26F3F3EB673D453199382EAF9CC562F8",
    "jupyter": {},
    "mdEditEnable": false,
    "notebookId": "6048c58f74dfc60016df8841",
    "slideshow": {
     "slide_type": "slide"
    },
    "tags": []
   },
   "source": [
    "订单数量有三个小高峰，分别在5月，8月，19月，可能与五一小长假，开学季，十一小长假有关。"
   ]
  },
  {
   "cell_type": "markdown",
   "metadata": {
    "id": "445E1E0D766D46618E91C84067A8AA73",
    "jupyter": {},
    "mdEditEnable": false,
    "notebookId": "6048c58f74dfc60016df8841",
    "slideshow": {
     "slide_type": "slide"
    },
    "tags": []
   },
   "source": [
    "#### 每月客单价"
   ]
  },
  {
   "cell_type": "code",
   "execution_count": 17,
   "metadata": {
    "id": "CB44730539414F85814D9E720DF48FEF",
    "jupyter": {},
    "notebookId": "6048c58f74dfc60016df8841",
    "scrolled": false,
    "slideshow": {
     "slide_type": "slide"
    },
    "tags": []
   },
   "outputs": [
    {
     "data": {
      "image/png": "[encoded data removed]",
      "text/plain": [
       "<Figure size 720x360 with 1 Axes>"
      ]
     },
     "metadata": {
      "needs_background": "light"
     },
     "output_type": "display_data"
    }
   ],
   "source": [
    "store_plot(data=df[df['price']>0].groupby('Month')['price'].sum()/df[df['price']>0].groupby('Month')['order_id'].nunique(),\n",
    "          xlab='月份',\n",
    "          ylab='客单价',\n",
    "          title='每月客单价')"
   ]
  },
  {
   "cell_type": "markdown",
   "metadata": {
    "id": "8323F69B82A64AB08555FD3F55E48A5C",
    "jupyter": {},
    "mdEditEnable": false,
    "notebookId": "6048c58f74dfc60016df8841",
    "slideshow": {
     "slide_type": "slide"
    },
    "tags": []
   },
   "source": [
    "客单价由2个小高峰，分布在3月和8月，8月份的客单价最高，说明8月份的需求量最高，客单价、订单数量达到顶峰，每年八月份是店铺全年营收的关键期，店铺要提前准备，保证货源供应，满足客户需求量。"
   ]
  },
  {
   "cell_type": "markdown",
   "metadata": {
    "id": "0C54F71B116F46208B772ED69DBF1B99",
    "jupyter": {},
    "mdEditEnable": false,
    "notebookId": "6048c58f74dfc60016df8841",
    "slideshow": {
     "slide_type": "slide"
    },
    "tags": []
   },
   "source": [
    "1、销售金额和成交金额曲线很相似，意味着销售金额约等于成交金额。\n",
    "2、月订单数量、月消费人数、月成交金额、月销售额、月客单价趋势相似，在五月份有个小高峰，在八月份是最高峰，销售情况最好的月份集中在7-9月份。店铺可以在1-4月份减少营业人员，5-11月增加营业人员，应对销售高峰期。\n",
    "3、店铺销售高峰估计和五一小长假、暑假、开学季、十一小长假有关，店铺应该在这几个关键的节点，提前布局，打造竞品，加大库存量，保证货源充足。"
   ]
  },
  {
   "cell_type": "markdown",
   "metadata": {
    "id": "59139C13C12C4B888D5B387582612CEB",
    "jupyter": {},
    "mdEditEnable": false,
    "notebookId": "6048c58f74dfc60016df8841",
    "slideshow": {
     "slide_type": "slide"
    },
    "tags": []
   },
   "source": [
    "#### 不同省份用户数量\n",
    "\n"
   ]
  },
  {
   "cell_type": "code",
   "execution_count": 18,
   "metadata": {
    "id": "9359938B8FCB4CD09A0EBC754207B969",
    "jupyter": {},
    "notebookId": "6048c58f74dfc60016df8841",
    "scrolled": false,
    "slideshow": {
     "slide_type": "slide"
    },
    "tags": []
   },
   "outputs": [],
   "source": [
    "import matplotlib.pyplot as plt\n",
    "plt.rcParams['font.sans-serif'] = ['KaiTi']\n",
    "plt.rcParams['axes.unicode_minus'] = False"
   ]
  },
  {
   "cell_type": "code",
   "execution_count": 19,
   "metadata": {
    "id": "579A3083E05E4A288EE9A382064A879A",
    "jupyter": {},
    "notebookId": "6048c58f74dfc60016df8841",
    "scrolled": false,
    "slideshow": {
     "slide_type": "slide"
    },
    "tags": []
   },
   "outputs": [
    {
     "data": {
      "text/plain": [
       "Text(0.5, 1.0, '不同省份用户数量')"
      ]
     },
     "execution_count": 19,
     "metadata": {},
     "output_type": "execute_result"
    },
    {
     "data": {
      "image/png": "[encoded data removed]",
      "text/plain": [
       "<Figure size 864x576 with 1 Axes>"
      ]
     },
     "metadata": {
      "needs_background": "light"
     },
     "output_type": "display_data"
    }
   ],
   "source": [
    "plt.figure(figsize=(12,8))\n",
    "df[df['price']>0].groupby('local')['user_id'].nunique().sort_values(ascending=True).plot.barh()\n",
    "plt.xlabel('用户数量')\n",
    "plt.ylabel('省份')\n",
    "plt.title('不同省份用户数量')"
   ]
  },
  {
   "cell_type": "markdown",
   "metadata": {
    "id": "68705A4C5B3F4CFD82F22E4679A1079C",
    "jupyter": {},
    "mdEditEnable": false,
    "notebookId": "6048c58f74dfc60016df8841",
    "scrolled": false,
    "slideshow": {
     "slide_type": "slide"
    },
    "tags": []
   },
   "source": [
    "#### 不同省份订单数量"
   ]
  },
  {
   "cell_type": "code",
   "execution_count": 20,
   "metadata": {
    "id": "1AADDE936F8E4C52B2434D8E0CF4E976",
    "jupyter": {},
    "notebookId": "6048c58f74dfc60016df8841",
    "scrolled": false,
    "slideshow": {
     "slide_type": "slide"
    },
    "tags": []
   },
   "outputs": [
    {
     "data": {
      "text/plain": [
       "Text(0.5, 1.0, '不同省份订单数量')"
      ]
     },
     "execution_count": 20,
     "metadata": {},
     "output_type": "execute_result"
    },
    {
     "data": {
      "image/png": "[encoded data removed]",
      "text/plain": [
       "<Figure size 864x576 with 1 Axes>"
      ]
     },
     "metadata": {
      "needs_background": "light"
     },
     "output_type": "display_data"
    }
   ],
   "source": [
    "plt.figure(figsize=(12,8))\n",
    "df[df['price']>0].groupby('local')['order_id'].nunique().sort_values(ascending=True).plot.barh()\n",
    "plt.xlabel('订单数量')\n",
    "plt.ylabel('省份')\n",
    "plt.title('不同省份订单数量')"
   ]
  },
  {
   "cell_type": "markdown",
   "metadata": {
    "id": "A37C8960CAE14F408FDCE98A79B46D93",
    "jupyter": {},
    "mdEditEnable": false,
    "notebookId": "6048c58f74dfc60016df8841",
    "slideshow": {
     "slide_type": "slide"
    },
    "tags": []
   },
   "source": [
    "#### 不同省份成交金额"
   ]
  },
  {
   "cell_type": "code",
   "execution_count": 21,
   "metadata": {
    "id": "AD7BDD425B1D427187B0FC084299B560",
    "jupyter": {},
    "notebookId": "6048c58f74dfc60016df8841",
    "scrolled": false,
    "slideshow": {
     "slide_type": "slide"
    },
    "tags": []
   },
   "outputs": [
    {
     "data": {
      "text/plain": [
       "Text(0.5, 1.0, '不同省份成交金额')"
      ]
     },
     "execution_count": 21,
     "metadata": {},
     "output_type": "execute_result"
    },
    {
     "data": {
      "image/png": "[encoded data removed]",
      "text/plain": [
       "<Figure size 864x576 with 1 Axes>"
      ]
     },
     "metadata": {
      "needs_background": "light"
     },
     "output_type": "display_data"
    }
   ],
   "source": [
    "plt.figure(figsize=(12,8))\n",
    "df[df['price']>0].groupby('local')['price'].sum().sort_values(ascending=True).plot.barh()\n",
    "plt.xlabel('成交金额')\n",
    "plt.ylabel('省份')\n",
    "plt.title('不同省份成交金额')"
   ]
  },
  {
   "cell_type": "markdown",
   "metadata": {
    "id": "3CB481E136334CB48DBCA40DFF439A66",
    "jupyter": {},
    "mdEditEnable": true,
    "notebookId": "6048c58f74dfc60016df8841",
    "slideshow": {
     "slide_type": "slide"
    },
    "tags": []
   },
   "source": [
    "1、北上广的用户数量、订单数量、成交金额都稳居前三。\n",
    "2、湖南的客户数量最好，但是订单数，客单价仅次于北上广，湖南客户的潜力巨大，需要加大宣传，增加客户数量。"
   ]
  },
  {
   "cell_type": "markdown",
   "metadata": {
    "id": "3E0F4B5AB96F41849FAC241F12BD8BDB",
    "jupyter": {},
    "mdEditEnable": false,
    "notebookId": "6048c58f74dfc60016df8841",
    "slideshow": {
     "slide_type": "slide"
    },
    "tags": []
   },
   "source": [
    "#### 下单星期分布"
   ]
  },
  {
   "cell_type": "code",
   "execution_count": 22,
   "metadata": {
    "id": "C1997042A5334EC5B9223141ADB0DD34",
    "jupyter": {},
    "notebookId": "6048c58f74dfc60016df8841",
    "scrolled": false,
    "slideshow": {
     "slide_type": "slide"
    },
    "tags": []
   },
   "outputs": [
    {
     "data": {
      "text/plain": [
       "Text(0.5, 1.0, '订单数随星期变化')"
      ]
     },
     "execution_count": 22,
     "metadata": {},
     "output_type": "execute_result"
    },
    {
     "data": {
      "image/png": "[encoded data removed]",
      "text/plain": [
       "<Figure size 864x576 with 1 Axes>"
      ]
     },
     "metadata": {
      "needs_background": "light"
     },
     "output_type": "display_data"
    }
   ],
   "source": [
    "#下单时间分布\n",
    "#星期\n",
    "plt.figure(figsize=(12,8))\n",
    "df[df['price']>0].groupby('Dayofweek')['order_id'].nunique().plot.bar()\n",
    "plt.xticks(range(7),['周一','周二','周三','周四','周五','周六','周日'],rotation=0)\n",
    "plt.xlabel('星期')\n",
    "plt.ylabel('订单数')\n",
    "plt.title('订单数随星期变化')"
   ]
  },
  {
   "cell_type": "markdown",
   "metadata": {
    "id": "9C231D8A196243A18FACAC17E52C17B8",
    "jupyter": {},
    "mdEditEnable": false,
    "notebookId": "6048c58f74dfc60016df8841",
    "slideshow": {
     "slide_type": "slide"
    },
    "tags": []
   },
   "source": [
    "周一到周五订单数维持稳定，周六是订单数量最高，周日次之。"
   ]
  },
  {
   "cell_type": "markdown",
   "metadata": {
    "id": "24F26B736C654A138FCDC2B6329CE3A8",
    "jupyter": {},
    "mdEditEnable": false,
    "notebookId": "6048c58f74dfc60016df8841",
    "slideshow": {
     "slide_type": "slide"
    },
    "tags": []
   },
   "source": [
    "#### 下单小时分布"
   ]
  },
  {
   "cell_type": "code",
   "execution_count": 23,
   "metadata": {
    "id": "D445EB783C304915B70B0CA1AF065C5E",
    "jupyter": {},
    "notebookId": "6048c58f74dfc60016df8841",
    "scrolled": false,
    "slideshow": {
     "slide_type": "slide"
    },
    "tags": []
   },
   "outputs": [
    {
     "data": {
      "text/plain": [
       "Text(0.5, 1.0, '订单随小时数变化')"
      ]
     },
     "execution_count": 23,
     "metadata": {},
     "output_type": "execute_result"
    },
    {
     "data": {
      "image/png": "[encoded data removed]",
      "text/plain": [
       "<Figure size 864x576 with 1 Axes>"
      ]
     },
     "metadata": {
      "needs_background": "light"
     },
     "output_type": "display_data"
    }
   ],
   "source": [
    "#下单时间分布\n",
    "#小时\n",
    "plt.figure(figsize=(12,8))\n",
    "df[df['price']>0].groupby('hour')['order_id'].nunique().plot()\n",
    "plt.xlabel('小时')\n",
    "plt.ylabel('订单数')\n",
    "plt.title('订单随小时数变化')"
   ]
  },
  {
   "cell_type": "markdown",
   "metadata": {
    "id": "2A7874BD203A444C9F1746259D3BA45A",
    "jupyter": {},
    "mdEditEnable": false,
    "notebookId": "6048c58f74dfc60016df8841",
    "slideshow": {
     "slide_type": "slide"
    },
    "tags": []
   },
   "source": [
    "订单集中在早晨，8点到13点是消费高峰期，这段时间要注意维持好网站的稳定性。"
   ]
  },
  {
   "cell_type": "code",
   "execution_count": 24,
   "metadata": {
    "id": "8A2CDD9B6C864ECF978A3446A755C943",
    "jupyter": {},
    "notebookId": "6048c58f74dfc60016df8841",
    "scrolled": false,
    "slideshow": {
     "slide_type": "slide"
    },
    "tags": []
   },
   "outputs": [
    {
     "data": {
      "text/plain": [
       "Unnamed: 0       39\n",
       "event_time       39\n",
       "order_id         39\n",
       "product_id       39\n",
       "category_id      39\n",
       "category_code    39\n",
       "brand            39\n",
       "price            39\n",
       "user_id          39\n",
       "age              39\n",
       "sex              39\n",
       "local            39\n",
       "Month            39\n",
       "Day              39\n",
       "Dayofweek        39\n",
       "hour             39\n",
       "dtype: int64"
      ]
     },
     "execution_count": 24,
     "metadata": {},
     "output_type": "execute_result"
    }
   ],
   "source": [
    "df[df['price']==0].count() "
   ]
  },
  {
   "cell_type": "markdown",
   "metadata": {
    "id": "243DF7A53C944ED3B2F8D74E0C796830",
    "jupyter": {},
    "mdEditEnable": false,
    "notebookId": "6048c58f74dfc60016df8841",
    "slideshow": {
     "slide_type": "slide"
    },
    "tags": []
   },
   "source": [
    "未完成支付的订单只有39单，对比完成支付订单可忽略不计，因此不做未完成订单数、订单金额的统计。"
   ]
  },
  {
   "cell_type": "markdown",
   "metadata": {
    "id": "82B6031648184B78B0A0B183A81E0BE2",
    "jupyter": {},
    "mdEditEnable": false,
    "notebookId": "6048c58f74dfc60016df8841",
    "scrolled": false,
    "slideshow": {
     "slide_type": "slide"
    },
    "tags": []
   },
   "source": [
    "## 用户消费行为分析\n",
    "#### 用户消费次数、用户消费金额"
   ]
  },
  {
   "cell_type": "code",
   "execution_count": 25,
   "metadata": {
    "id": "3AFCBF616CCA432D836E7A57F270F09A",
    "jupyter": {},
    "notebookId": "6048c58f74dfc60016df8841",
    "scrolled": false,
    "slideshow": {
     "slide_type": "slide"
    },
    "tags": []
   },
   "outputs": [
    {
     "data": {
      "text/html": [
       "<div>\n",
       "<style scoped>\n",
       "    .dataframe tbody tr th:only-of-type {\n",
       "        vertical-align: middle;\n",
       "    }\n",
       "\n",
       "    .dataframe tbody tr th {\n",
       "        vertical-align: top;\n",
       "    }\n",
       "\n",
       "    .dataframe thead th {\n",
       "        text-align: right;\n",
       "    }\n",
       "</style>\n",
       "<table border=\"1\" class=\"dataframe\">\n",
       "  <thead>\n",
       "    <tr style=\"text-align: right;\">\n",
       "      <th></th>\n",
       "      <th>order_id</th>\n",
       "      <th>price</th>\n",
       "    </tr>\n",
       "  </thead>\n",
       "  <tbody>\n",
       "    <tr>\n",
       "      <th>count</th>\n",
       "      <td>93818.000000</td>\n",
       "      <td>93818.000000</td>\n",
       "    </tr>\n",
       "    <tr>\n",
       "      <th>mean</th>\n",
       "      <td>4.269074</td>\n",
       "      <td>1252.415276</td>\n",
       "    </tr>\n",
       "    <tr>\n",
       "      <th>std</th>\n",
       "      <td>18.191671</td>\n",
       "      <td>4205.922011</td>\n",
       "    </tr>\n",
       "    <tr>\n",
       "      <th>min</th>\n",
       "      <td>1.000000</td>\n",
       "      <td>0.020000</td>\n",
       "    </tr>\n",
       "    <tr>\n",
       "      <th>25%</th>\n",
       "      <td>1.000000</td>\n",
       "      <td>145.680000</td>\n",
       "    </tr>\n",
       "    <tr>\n",
       "      <th>50%</th>\n",
       "      <td>2.000000</td>\n",
       "      <td>460.580000</td>\n",
       "    </tr>\n",
       "    <tr>\n",
       "      <th>75%</th>\n",
       "      <td>3.000000</td>\n",
       "      <td>1152.570000</td>\n",
       "    </tr>\n",
       "    <tr>\n",
       "      <th>max</th>\n",
       "      <td>666.000000</td>\n",
       "      <td>165439.030000</td>\n",
       "    </tr>\n",
       "  </tbody>\n",
       "</table>\n",
       "</div>"
      ],
      "text/plain": [
       "           order_id          price\n",
       "count  93818.000000   93818.000000\n",
       "mean       4.269074    1252.415276\n",
       "std       18.191671    4205.922011\n",
       "min        1.000000       0.020000\n",
       "25%        1.000000     145.680000\n",
       "50%        2.000000     460.580000\n",
       "75%        3.000000    1152.570000\n",
       "max      666.000000  165439.030000"
      ]
     },
     "execution_count": 25,
     "metadata": {},
     "output_type": "execute_result"
    }
   ],
   "source": [
    "df[df['price']>0].groupby('user_id').agg({'order_id':'nunique',\n",
    "                                         'price':'sum'}).describe()"
   ]
  },
  {
   "cell_type": "markdown",
   "metadata": {
    "id": "DB9B25C7D4DA49C68E13D9B2DECEC35E",
    "jupyter": {},
    "mdEditEnable": false,
    "notebookId": "6048c58f74dfc60016df8841",
    "slideshow": {
     "slide_type": "slide"
    },
    "tags": []
   },
   "source": [
    "1、超过一半的用户消费了两次，甚至有用户消费了666次，估计是批发商。\n",
    "2、客户平均消费金额是1252.4，标准差是4205.9，用户平均消费金额大于75分位数，存在高额消费用户。"
   ]
  },
  {
   "cell_type": "markdown",
   "metadata": {
    "id": "AA9D686A7D1B4BC381EFB2D9C15FA8AA",
    "jupyter": {},
    "mdEditEnable": true,
    "notebookId": "6048c58f74dfc60016df8841",
    "slideshow": {
     "slide_type": "slide"
    },
    "tags": []
   },
   "source": [
    "#### 消费次数与消费金额关系"
   ]
  },
  {
   "cell_type": "code",
   "execution_count": 26,
   "metadata": {
    "id": "F11146FE26C54F1788456EDF24784EAA",
    "jupyter": {},
    "notebookId": "6048c58f74dfc60016df8841",
    "scrolled": false,
    "slideshow": {
     "slide_type": "slide"
    },
    "tags": []
   },
   "outputs": [
    {
     "data": {
      "image/png": "[encoded data removed]",
      "text/plain": [
       "<Figure size 864x576 with 1 Axes>"
      ]
     },
     "metadata": {
      "needs_background": "light"
     },
     "output_type": "display_data"
    }
   ],
   "source": [
    "#消费次数与消费金额的关系\n",
    "plt.figure(figsize=(12,8))\n",
    "plt.scatter(x=df[df['price']>0].groupby('user_id')['order_id'].nunique(),\n",
    "           y=df[df['price']>0].groupby('user_id')['price'].sum())\n",
    "plt.xlabel('消费次数')\n",
    "plt.ylabel('消费金额')\n",
    "plt.title('消费次数与消费金额关系')\n",
    "plt.savefig('消费次数与消费金额关系.jpeg')"
   ]
  },
  {
   "cell_type": "markdown",
   "metadata": {
    "id": "356CC1AAE7D84BAA9B5B7B24791F23CA",
    "jupyter": {},
    "mdEditEnable": false,
    "notebookId": "6048c58f74dfc60016df8841",
    "slideshow": {
     "slide_type": "slide"
    },
    "tags": []
   },
   "source": [
    "消费次数和消费金额存在较强的相关性，用户消费次数越大，消费金额越大，可以引导用户多次消费。"
   ]
  },
  {
   "cell_type": "markdown",
   "metadata": {
    "id": "1DBC4198623C4CE48947E87BCD8812E7",
    "jupyter": {},
    "mdEditEnable": false,
    "notebookId": "6048c58f74dfc60016df8841",
    "scrolled": false,
    "slideshow": {
     "slide_type": "slide"
    },
    "tags": []
   },
   "source": [
    "#### 用户消费周期"
   ]
  },
  {
   "cell_type": "code",
   "execution_count": 27,
   "metadata": {
    "id": "CF2B9ACA72A7496797DCFC6D8BBB2975",
    "jupyter": {},
    "notebookId": "6048c58f74dfc60016df8841",
    "scrolled": false,
    "slideshow": {
     "slide_type": "slide"
    },
    "tags": []
   },
   "outputs": [
    {
     "data": {
      "text/plain": [
       "count    470312.000000\n",
       "mean          9.665354\n",
       "std         377.617753\n",
       "min      -18452.000000\n",
       "25%           0.000000\n",
       "50%           0.000000\n",
       "75%           1.000000\n",
       "max       18557.000000\n",
       "Name: event_time, dtype: float64"
      ]
     },
     "execution_count": 27,
     "metadata": {},
     "output_type": "execute_result"
    }
   ],
   "source": [
    "#用户消费周期\n",
    "purchase_time=df[df['price']>0].groupby('user_id').apply(lambda x: x['event_time']-x['event_time'].shift()).dt.days\n",
    "purchase_time.describe()"
   ]
  },
  {
   "cell_type": "code",
   "execution_count": 28,
   "metadata": {
    "id": "CE0AB56D559F4247818A8F164C046753",
    "jupyter": {},
    "notebookId": "6048c58f74dfc60016df8841",
    "scrolled": false,
    "slideshow": {
     "slide_type": "slide"
    },
    "tags": []
   },
   "outputs": [
    {
     "data": {
      "text/plain": [
       "count    125636.000000\n",
       "mean         46.194204\n",
       "std         638.377648\n",
       "min           1.000000\n",
       "25%           3.000000\n",
       "50%           9.000000\n",
       "75%          30.000000\n",
       "max       18557.000000\n",
       "Name: event_time, dtype: float64"
      ]
     },
     "execution_count": 28,
     "metadata": {},
     "output_type": "execute_result"
    }
   ],
   "source": [
    "purchase_time[purchase_time>0].describe()"
   ]
  },
  {
   "cell_type": "markdown",
   "metadata": {
    "id": "3942676BA7A047D382B925725A488531",
    "jupyter": {},
    "mdEditEnable": false,
    "notebookId": "6048c58f74dfc60016df8841",
    "slideshow": {
     "slide_type": "slide"
    },
    "tags": []
   },
   "source": [
    "至少消费两次的用户有一半是9天，75%的消费者消费金额在一个月，可以在8天、29天两个时间点对用户进行推送和提醒"
   ]
  },
  {
   "cell_type": "markdown",
   "metadata": {
    "id": "DA1C1F8C605049FC84FF73CBDBA52549",
    "jupyter": {},
    "mdEditEnable": false,
    "notebookId": "6048c58f74dfc60016df8841",
    "slideshow": {
     "slide_type": "slide"
    },
    "tags": []
   },
   "source": [
    "#### 新用户数量、活跃用户、不活跃用户、回流用户、回流率"
   ]
  },
  {
   "cell_type": "code",
   "execution_count": 29,
   "metadata": {
    "id": "0C63E61601F74EE9AF329C8600B0C252",
    "jupyter": {},
    "notebookId": "6048c58f74dfc60016df8841",
    "scrolled": false,
    "slideshow": {
     "slide_type": "slide"
    },
    "tags": []
   },
   "outputs": [
    {
     "data": {
      "text/plain": [
       "Text(0.5, 1.0, '用户分层')"
      ]
     },
     "execution_count": 29,
     "metadata": {},
     "output_type": "execute_result"
    },
    {
     "data": {
      "image/png": "[encoded data removed]",
      "text/plain": [
       "<Figure size 864x432 with 1 Axes>"
      ]
     },
     "metadata": {
      "needs_background": "light"
     },
     "output_type": "display_data"
    }
   ],
   "source": [
    "pivoted_amount =df[df['price']>0].pivot_table(index='user_id',\n",
    "                                             columns='Month',\n",
    "                                             values='price',\n",
    "                                             aggfunc='mean').fillna(0)\n",
    "columns_month = df['Month'].sort_values().astype('str').unique()\n",
    "pivoted_amount.columns = columns_month\n",
    "pivoted_purchase = pivoted_amount.applymap(lambda x:1 if x>0 else 0)\n",
    "#用户分层\n",
    "def active_status(data):\n",
    "    status =[]\n",
    "    for i in range(11):\n",
    "        #若本月没有消费\n",
    "        if data[i] ==0:\n",
    "            if len(status)>0:\n",
    "                if status[i-1]=='unreg':\n",
    "                    status.append('unreg')\n",
    "                else:\n",
    "                    status.append('unactive')\n",
    "            else:\n",
    "                status.append('unreg')\n",
    "        #若本月消费\n",
    "        else:\n",
    "            if len(status)==0:\n",
    "                status.append('new')\n",
    "            else:\n",
    "                if status[i-1]=='unactive':\n",
    "                    status.append('return')\n",
    "                elif status[i-1]=='unreg':\n",
    "                    status.append('new')\n",
    "                else:\n",
    "                    status.append('active')\n",
    "    return pd.Series(status,index=columns_month)\n",
    "pivoted_purchase_status = pivoted_purchase.apply(lambda x:active_status(x),axis=1)\n",
    "purchase_status_counts= pivoted_purchase_status.replace('unreg',np.NaN).apply(lambda x:pd.value_counts(x))\n",
    "purchase_status_counts.fillna(0).T.plot.area(figsize=(12,6))\n",
    "plt.xticks(range(11),columns_month)\n",
    "plt.title('用户分层')"
   ]
  },
  {
   "cell_type": "markdown",
   "metadata": {
    "id": "3780617E3D5144C4BF80E34E70338B84",
    "jupyter": {},
    "mdEditEnable": false,
    "notebookId": "6048c58f74dfc60016df8841",
    "slideshow": {
     "slide_type": "slide"
    },
    "tags": []
   },
   "source": [
    "1、从3月开始，新用户数量逐渐增加，8月份增加最多，8月份以后新用户数量又逐渐减少。\n",
    "2、从6月份开始，不活跃用户数逐渐增加，而且增速越来越快。\n",
    "3、回流用户数从5月开始增速较快，到7月份开始报纸稳定。\n",
    "4、活跃用户数从5月开始大幅增加，7-11月份活跃数量较多，其中8月最多，估计和开学季相关。"
   ]
  },
  {
   "cell_type": "markdown",
   "metadata": {
    "id": "C8A3AB287AD44ABC83A6326189A1C8A3",
    "jupyter": {},
    "mdEditEnable": false,
    "notebookId": "6048c58f74dfc60016df8841",
    "slideshow": {
     "slide_type": "slide"
    },
    "tags": []
   },
   "source": [
    "#### 回流率"
   ]
  },
  {
   "cell_type": "code",
   "execution_count": 30,
   "metadata": {
    "id": "94F75966A1EC4E89B416920828F66024",
    "jupyter": {},
    "notebookId": "6048c58f74dfc60016df8841",
    "scrolled": false,
    "slideshow": {
     "slide_type": "slide"
    },
    "tags": []
   },
   "outputs": [
    {
     "data": {
      "text/plain": [
       "Text(0.5, 1.0, '回流率')"
      ]
     },
     "execution_count": 30,
     "metadata": {},
     "output_type": "execute_result"
    },
    {
     "data": {
      "image/png": "[encoded data removed]",
      "text/plain": [
       "<Figure size 864x432 with 1 Axes>"
      ]
     },
     "metadata": {
      "needs_background": "light"
     },
     "output_type": "display_data"
    }
   ],
   "source": [
    "#回流率\n",
    "return_rate = purchase_status_counts.apply(lambda x:x/x.sum(),axis=1)\n",
    "return_rate.loc['return'].plot(figsize=(12,6))\n",
    "plt.xticks(range(1,12),columns_month)\n",
    "plt.title('回流率')"
   ]
  },
  {
   "cell_type": "markdown",
   "metadata": {
    "id": "6905D8FACC2F403E8664F5E4447C6833",
    "jupyter": {},
    "mdEditEnable": false,
    "notebookId": "6048c58f74dfc60016df8841",
    "slideshow": {
     "slide_type": "slide"
    },
    "tags": []
   },
   "source": [
    "回流用户从2月到7月呈增加趋势，四月有所回落，五月开始保持快速增长，7月初到达顶峰，7月开始回落但依然保持较高的回流率。"
   ]
  },
  {
   "cell_type": "markdown",
   "metadata": {
    "id": "88B5F928AF5643258F73830DFA9D2894",
    "jupyter": {},
    "mdEditEnable": false,
    "notebookId": "6048c58f74dfc60016df8841",
    "slideshow": {
     "slide_type": "slide"
    },
    "tags": []
   },
   "source": [
    "#### 复购率"
   ]
  },
  {
   "cell_type": "code",
   "execution_count": 31,
   "metadata": {
    "id": "C1B87A97E5A14151A42426E43A2D43F4",
    "jupyter": {},
    "notebookId": "6048c58f74dfc60016df8841",
    "scrolled": false,
    "slideshow": {
     "slide_type": "slide"
    },
    "tags": []
   },
   "outputs": [
    {
     "data": {
      "text/plain": [
       "Text(0.5, 1.0, '复购率')"
      ]
     },
     "execution_count": 31,
     "metadata": {},
     "output_type": "execute_result"
    },
    {
     "data": {
      "image/png": "[encoded data removed]",
      "text/plain": [
       "<Figure size 864x432 with 1 Axes>"
      ]
     },
     "metadata": {
      "needs_background": "light"
     },
     "output_type": "display_data"
    }
   ],
   "source": [
    "#复购率\n",
    "pivoted_counts = df[df['price']>0].pivot_table(index='user_id',\n",
    "                                              columns='Month',\n",
    "                                             values='order_id',\n",
    "                                             aggfunc='nunique').fillna(0)\n",
    "columns_month = df['Month'].sort_values().astype('str').unique()\n",
    "pivoted_counts_transf = pivoted_counts.applymap(lambda x: 1 if x>1 else np.NaN if x==0 else 0)\n",
    "(pivoted_counts_transf.sum()/pivoted_counts_transf.count()).plot(figsize=(12,6))\n",
    "plt.xticks(range(11),columns_month)\n",
    "plt.title('复购率')"
   ]
  },
  {
   "cell_type": "markdown",
   "metadata": {
    "id": "39E796852FF648EC8447E084EFDF7DEB",
    "jupyter": {},
    "mdEditEnable": true,
    "notebookId": "6048c58f74dfc60016df8841",
    "slideshow": {
     "slide_type": "slide"
    },
    "tags": []
   },
   "source": [
    "复购率3月、5月、10月有三个小高峰，其中10月份复购率最高，从6月开始到10月复购率一直保持增长。一直保持较高的复购率。其中三个小高峰估计和清明小长假、五一小长假、十一小长假有关。"
   ]
  },
  {
   "cell_type": "markdown",
   "metadata": {
    "id": "ED41FA20E86F460880F6B0185E42AC6B",
    "jupyter": {},
    "mdEditEnable": false,
    "notebookId": "6048c58f74dfc60016df8841",
    "slideshow": {
     "slide_type": "slide"
    },
    "tags": []
   },
   "source": [
    "#### 回购率"
   ]
  },
  {
   "cell_type": "code",
   "execution_count": 32,
   "metadata": {
    "id": "326C14CF8FCA475093713A7EDB18173B",
    "jupyter": {},
    "notebookId": "6048c58f74dfc60016df8841",
    "scrolled": false,
    "slideshow": {
     "slide_type": "slide"
    },
    "tags": []
   },
   "outputs": [
    {
     "data": {
      "text/plain": [
       "Text(0.5, 1.0, '回购率')"
      ]
     },
     "execution_count": 32,
     "metadata": {},
     "output_type": "execute_result"
    },
    {
     "data": {
      "image/png": "[encoded data removed]",
      "text/plain": [
       "<Figure size 864x432 with 1 Axes>"
      ]
     },
     "metadata": {
      "needs_background": "light"
     },
     "output_type": "display_data"
    }
   ],
   "source": [
    "#回购率\n",
    "def purchase_return(data):\n",
    "    status = []\n",
    "    for i in range(10):\n",
    "        if data[i]==1:\n",
    "            if data[i+1]==1:\n",
    "                status.append(1)\n",
    "            else: \n",
    "                status.append(0)\n",
    "        else :\n",
    "            status.append(np.NaN)\n",
    "    status.append(np.NaN)\n",
    "    return pd.Series(status,index=columns_month)\n",
    "pivoted_purchase_return = pivoted_purchase.apply(purchase_return,axis=1)\n",
    "(pivoted_purchase_return.sum()/pivoted_purchase_return.count()).plot(figsize=(12,6))\n",
    "plt.xticks(range(11),columns_month)\n",
    "plt.title('回购率')"
   ]
  },
  {
   "cell_type": "markdown",
   "metadata": {
    "id": "2C86F2A31C3C475483714320493BAA90",
    "jupyter": {},
    "mdEditEnable": false,
    "notebookId": "6048c58f74dfc60016df8841",
    "slideshow": {
     "slide_type": "slide"
    },
    "tags": []
   },
   "source": [
    "回购率从1月到11月总体呈现下降趋势。其中3月、5月、10月下降最厉害，估计和清明小长假、五一小长假、十一小长假有关。"
   ]
  },
  {
   "cell_type": "markdown",
   "metadata": {
    "id": "82DAB12A56E14D2CBAF4D13B088722DF",
    "jupyter": {},
    "mdEditEnable": false,
    "notebookId": "6048c58f74dfc60016df8841",
    "slideshow": {
     "slide_type": "slide"
    },
    "tags": []
   },
   "source": [
    "## 消费人群分层情况"
   ]
  },
  {
   "cell_type": "markdown",
   "metadata": {
    "id": "8A88F57766E64E219624E159FFF6D847",
    "jupyter": {},
    "mdEditEnable": false,
    "notebookId": "6048c58f74dfc60016df8841",
    "slideshow": {
     "slide_type": "slide"
    },
    "tags": []
   },
   "source": [
    "#### 按性别分析"
   ]
  },
  {
   "cell_type": "code",
   "execution_count": 33,
   "metadata": {
    "id": "DC426AF73D4D4B5EB69868F9AFD85618",
    "jupyter": {},
    "notebookId": "6048c58f74dfc60016df8841",
    "scrolled": false,
    "slideshow": {
     "slide_type": "slide"
    },
    "tags": []
   },
   "outputs": [
    {
     "data": {
      "image/png": "[encoded data removed]",
      "text/plain": [
       "<Figure size 576x576 with 1 Axes>"
      ]
     },
     "metadata": {},
     "output_type": "display_data"
    }
   ],
   "source": [
    "df_sex = df['sex'].value_counts() \n",
    "df = df[df['price']>0]\n",
    "plt.figure(figsize=(8,8))\n",
    "plt.pie(df_sex.values,labels=df_sex.index,autopct='%.2f%%',\n",
    "       wedgeprops={'linewidth':0.5,'edgecolor':'green'},\n",
    "       textprops={'fontsize':30,'color':'#003371'}\n",
    "       ) \n",
    "plt.title('男女占比',size=30)\n",
    "plt.show()"
   ]
  },
  {
   "cell_type": "markdown",
   "metadata": {
    "id": "0548E153F996486B81FF45E694726096",
    "jupyter": {},
    "mdEditEnable": false,
    "notebookId": "6048c58f74dfc60016df8841",
    "slideshow": {
     "slide_type": "slide"
    },
    "tags": []
   },
   "source": [
    "购买人群男女占比几乎是1:1的情况"
   ]
  },
  {
   "cell_type": "markdown",
   "metadata": {
    "id": "89CD4C70CC9F4BF988866D33D20F92BD",
    "jupyter": {},
    "mdEditEnable": false,
    "notebookId": "6048c58f74dfc60016df8841",
    "slideshow": {
     "slide_type": "slide"
    },
    "tags": []
   },
   "source": [
    "#### 按年龄段分析"
   ]
  },
  {
   "cell_type": "code",
   "execution_count": 34,
   "metadata": {
    "id": "E2DBB6E2BCD54DB68C7EAF9EAB4B90B0",
    "jupyter": {},
    "notebookId": "6048c58f74dfc60016df8841",
    "scrolled": false,
    "slideshow": {
     "slide_type": "slide"
    },
    "tags": []
   },
   "outputs": [
    {
     "data": {
      "text/plain": [
       "count    564130.000000\n",
       "mean         33.184326\n",
       "std          10.122218\n",
       "min          16.000000\n",
       "25%          24.000000\n",
       "50%          33.000000\n",
       "75%          42.000000\n",
       "max          50.000000\n",
       "Name: age, dtype: float64"
      ]
     },
     "execution_count": 34,
     "metadata": {},
     "output_type": "execute_result"
    }
   ],
   "source": [
    "df['age'].describe()"
   ]
  },
  {
   "cell_type": "code",
   "execution_count": 35,
   "metadata": {
    "id": "50EDC8DE46BC4F7589C4EF820C3AACA4",
    "jupyter": {},
    "notebookId": "6048c58f74dfc60016df8841",
    "scrolled": false,
    "slideshow": {
     "slide_type": "slide"
    },
    "tags": []
   },
   "outputs": [
    {
     "data": {
      "text/plain": [
       "40-50    169567\n",
       "20-30    159756\n",
       "30-40    156550\n",
       "10-20     78257\n",
       "Name: age_box, dtype: int64"
      ]
     },
     "execution_count": 35,
     "metadata": {},
     "output_type": "execute_result"
    }
   ],
   "source": [
    "bins=[10,20,30,40,50]\n",
    "df['age_box'] = pd.cut(df['age'],bins,labels=['10-20','20-30','30-40','40-50'])\n",
    "age_box = df['age_box'].value_counts()\n",
    "age_box"
   ]
  },
  {
   "cell_type": "code",
   "execution_count": 36,
   "metadata": {
    "id": "7339A807E8CF471B8BEB7C033580C555",
    "jupyter": {},
    "notebookId": "6048c58f74dfc60016df8841",
    "scrolled": false,
    "slideshow": {
     "slide_type": "slide"
    },
    "tags": []
   },
   "outputs": [
    {
     "data": {
      "image/png": "[encoded data removed]",
      "text/plain": [
       "<Figure size 720x432 with 1 Axes>"
      ]
     },
     "metadata": {
      "needs_background": "light"
     },
     "output_type": "display_data"
    }
   ],
   "source": [
    "plt.figure(figsize=(10,6))\n",
    "plt.bar(age_box.index,age_box.values\n",
    "       ,color='#cb3a56')\n",
    "plt.ylabel('购买数量',size=22)\n",
    "plt.xlabel('年龄分段',size=22)\n",
    "plt.xticks(size=18)\n",
    "plt.yticks(size=18)\n",
    "for x,y in zip(age_box.index,age_box.values):\n",
    "    plt.text(x,y+500,\"%d\"%y,ha='center',va='bottom',size=16,color='#c83c23')\n",
    "plt.title('不同年龄分段的购买情况',size=25)\n",
    "plt.show()"
   ]
  },
  {
   "cell_type": "markdown",
   "metadata": {
    "id": "562CC8F9AE504A988040B94BAD182F9D",
    "jupyter": {},
    "mdEditEnable": false,
    "notebookId": "6048c58f74dfc60016df8841",
    "slideshow": {
     "slide_type": "slide"
    },
    "tags": []
   },
   "source": [
    "40-50岁的人群是购买主力，20-20岁，30-40岁的购买情况差距不大，10-20岁最少，主要和人群的购买力有关，也可以反映不能的人口结构状况。"
   ]
  },
  {
   "cell_type": "code",
   "execution_count": 37,
   "metadata": {
    "id": "0844EE1FA8AA43BF8D8E5835CD642A4A",
    "jupyter": {},
    "notebookId": "6048c58f74dfc60016df8841",
    "scrolled": false,
    "slideshow": {
     "slide_type": "slide"
    },
    "tags": []
   },
   "outputs": [
    {
     "data": {
      "text/plain": [
       "age_box  sex\n",
       "10-20    女      39858\n",
       "         男      38399\n",
       "20-30    女      80159\n",
       "         男      79597\n",
       "30-40    男      81535\n",
       "         女      75015\n",
       "40-50    男      84863\n",
       "         女      84704\n",
       "Name: sex, dtype: int64"
      ]
     },
     "execution_count": 37,
     "metadata": {},
     "output_type": "execute_result"
    }
   ],
   "source": [
    "df.groupby('age_box')['sex'].value_counts()"
   ]
  },
  {
   "cell_type": "code",
   "execution_count": 38,
   "metadata": {
    "id": "60A8D7068DCB471989108741C18AED22",
    "jupyter": {},
    "notebookId": "6048c58f74dfc60016df8841",
    "scrolled": false,
    "slideshow": {
     "slide_type": "slide"
    },
    "tags": []
   },
   "outputs": [
    {
     "data": {
      "text/html": [
       "<div>\n",
       "<style scoped>\n",
       "    .dataframe tbody tr th:only-of-type {\n",
       "        vertical-align: middle;\n",
       "    }\n",
       "\n",
       "    .dataframe tbody tr th {\n",
       "        vertical-align: top;\n",
       "    }\n",
       "\n",
       "    .dataframe thead th {\n",
       "        text-align: right;\n",
       "    }\n",
       "</style>\n",
       "<table border=\"1\" class=\"dataframe\">\n",
       "  <thead>\n",
       "    <tr style=\"text-align: right;\">\n",
       "      <th></th>\n",
       "      <th>count</th>\n",
       "      <th>mean</th>\n",
       "      <th>std</th>\n",
       "      <th>min</th>\n",
       "      <th>25%</th>\n",
       "      <th>50%</th>\n",
       "      <th>75%</th>\n",
       "      <th>max</th>\n",
       "    </tr>\n",
       "    <tr>\n",
       "      <th>sex</th>\n",
       "      <th></th>\n",
       "      <th></th>\n",
       "      <th></th>\n",
       "      <th></th>\n",
       "      <th></th>\n",
       "      <th></th>\n",
       "      <th></th>\n",
       "      <th></th>\n",
       "    </tr>\n",
       "  </thead>\n",
       "  <tbody>\n",
       "    <tr>\n",
       "      <th>女</th>\n",
       "      <td>143151.0</td>\n",
       "      <td>287.819252</td>\n",
       "      <td>346.133224</td>\n",
       "      <td>0.02</td>\n",
       "      <td>46.27</td>\n",
       "      <td>173.59</td>\n",
       "      <td>393.5</td>\n",
       "      <td>9606.48</td>\n",
       "    </tr>\n",
       "    <tr>\n",
       "      <th>男</th>\n",
       "      <td>144958.0</td>\n",
       "      <td>289.186898</td>\n",
       "      <td>356.553973</td>\n",
       "      <td>0.02</td>\n",
       "      <td>46.27</td>\n",
       "      <td>173.59</td>\n",
       "      <td>393.5</td>\n",
       "      <td>18328.68</td>\n",
       "    </tr>\n",
       "  </tbody>\n",
       "</table>\n",
       "</div>"
      ],
      "text/plain": [
       "        count        mean         std   min    25%     50%    75%       max\n",
       "sex                                                                        \n",
       "女    143151.0  287.819252  346.133224  0.02  46.27  173.59  393.5   9606.48\n",
       "男    144958.0  289.186898  356.553973  0.02  46.27  173.59  393.5  18328.68"
      ]
     },
     "execution_count": 38,
     "metadata": {},
     "output_type": "execute_result"
    }
   ],
   "source": [
    "df_brand = df['brand'].value_counts().head(12)\n",
    "df[df['brand'].isin(df_brand.index)].groupby('sex').describe()['price']"
   ]
  },
  {
   "cell_type": "markdown",
   "metadata": {
    "id": "9DE8338899A04B638D46680FEF91871E",
    "jupyter": {},
    "mdEditEnable": false,
    "notebookId": "6048c58f74dfc60016df8841",
    "slideshow": {
     "slide_type": "slide"
    },
    "tags": []
   },
   "source": [
    "男性和女性对价格的在价格的75分位及以下消费情况一致，但是男性对高价格的产品的消费能力远超女性。"
   ]
  },
  {
   "cell_type": "code",
   "execution_count": 39,
   "metadata": {
    "id": "211CB9023ACE448FABB3A35ABD4B6065",
    "jupyter": {},
    "notebookId": "6048c58f74dfc60016df8841",
    "scrolled": false,
    "slideshow": {
     "slide_type": "slide"
    },
    "tags": []
   },
   "outputs": [
    {
     "data": {
      "text/html": [
       "<div>\n",
       "<style scoped>\n",
       "    .dataframe tbody tr th:only-of-type {\n",
       "        vertical-align: middle;\n",
       "    }\n",
       "\n",
       "    .dataframe tbody tr th {\n",
       "        vertical-align: top;\n",
       "    }\n",
       "\n",
       "    .dataframe thead th {\n",
       "        text-align: right;\n",
       "    }\n",
       "</style>\n",
       "<table border=\"1\" class=\"dataframe\">\n",
       "  <thead>\n",
       "    <tr style=\"text-align: right;\">\n",
       "      <th></th>\n",
       "      <th>count</th>\n",
       "      <th>mean</th>\n",
       "      <th>std</th>\n",
       "      <th>min</th>\n",
       "      <th>25%</th>\n",
       "      <th>50%</th>\n",
       "      <th>75%</th>\n",
       "      <th>max</th>\n",
       "    </tr>\n",
       "    <tr>\n",
       "      <th>age_box</th>\n",
       "      <th></th>\n",
       "      <th></th>\n",
       "      <th></th>\n",
       "      <th></th>\n",
       "      <th></th>\n",
       "      <th></th>\n",
       "      <th></th>\n",
       "      <th></th>\n",
       "    </tr>\n",
       "  </thead>\n",
       "  <tbody>\n",
       "    <tr>\n",
       "      <th>10-20</th>\n",
       "      <td>40064.0</td>\n",
       "      <td>288.570671</td>\n",
       "      <td>345.751456</td>\n",
       "      <td>0.02</td>\n",
       "      <td>48.59</td>\n",
       "      <td>173.59</td>\n",
       "      <td>393.5000</td>\n",
       "      <td>7407.38</td>\n",
       "    </tr>\n",
       "    <tr>\n",
       "      <th>20-30</th>\n",
       "      <td>81552.0</td>\n",
       "      <td>291.932090</td>\n",
       "      <td>352.620109</td>\n",
       "      <td>0.02</td>\n",
       "      <td>46.27</td>\n",
       "      <td>173.59</td>\n",
       "      <td>396.1575</td>\n",
       "      <td>9606.48</td>\n",
       "    </tr>\n",
       "    <tr>\n",
       "      <th>30-40</th>\n",
       "      <td>80530.0</td>\n",
       "      <td>289.774748</td>\n",
       "      <td>352.117137</td>\n",
       "      <td>0.02</td>\n",
       "      <td>46.27</td>\n",
       "      <td>173.59</td>\n",
       "      <td>393.5000</td>\n",
       "      <td>11574.05</td>\n",
       "    </tr>\n",
       "    <tr>\n",
       "      <th>40-50</th>\n",
       "      <td>85963.0</td>\n",
       "      <td>284.041581</td>\n",
       "      <td>352.188401</td>\n",
       "      <td>0.02</td>\n",
       "      <td>46.27</td>\n",
       "      <td>162.01</td>\n",
       "      <td>381.9200</td>\n",
       "      <td>18328.68</td>\n",
       "    </tr>\n",
       "  </tbody>\n",
       "</table>\n",
       "</div>"
      ],
      "text/plain": [
       "           count        mean         std   min    25%     50%       75%  \\\n",
       "age_box                                                                   \n",
       "10-20    40064.0  288.570671  345.751456  0.02  48.59  173.59  393.5000   \n",
       "20-30    81552.0  291.932090  352.620109  0.02  46.27  173.59  396.1575   \n",
       "30-40    80530.0  289.774748  352.117137  0.02  46.27  173.59  393.5000   \n",
       "40-50    85963.0  284.041581  352.188401  0.02  46.27  162.01  381.9200   \n",
       "\n",
       "              max  \n",
       "age_box            \n",
       "10-20     7407.38  \n",
       "20-30     9606.48  \n",
       "30-40    11574.05  \n",
       "40-50    18328.68  "
      ]
     },
     "execution_count": 39,
     "metadata": {},
     "output_type": "execute_result"
    }
   ],
   "source": [
    "df[df['brand'].isin(df_brand.index)].groupby('age_box').describe()['price']"
   ]
  },
  {
   "cell_type": "markdown",
   "metadata": {
    "id": "8A75AAB579064BBC9E13595AFF3DB927",
    "jupyter": {},
    "mdEditEnable": false,
    "notebookId": "6048c58f74dfc60016df8841",
    "slideshow": {
     "slide_type": "slide"
    },
    "tags": []
   },
   "source": [
    "不同年龄段人群在购买价格的75%分位上基本一致，但是34-40岁，40-50岁的人群对高价格产品的购买力更强。"
   ]
  },
  {
   "cell_type": "markdown",
   "metadata": {
    "id": "202F400DFEE14C7794DA13DC88261A5A",
    "jupyter": {},
    "mdEditEnable": false,
    "notebookId": "6048c58f74dfc60016df8841",
    "slideshow": {
     "slide_type": "slide"
    },
    "tags": []
   },
   "source": [
    "#### 按喜好品牌分析"
   ]
  },
  {
   "cell_type": "code",
   "execution_count": 40,
   "metadata": {
    "id": "2213B3383E9A4F6F95EC62404F149E69",
    "jupyter": {},
    "notebookId": "6048c58f74dfc60016df8841",
    "scrolled": true,
    "slideshow": {
     "slide_type": "slide"
    },
    "tags": []
   },
   "outputs": [
    {
     "data": {
      "image/png": "[encoded data removed]",
      "text/plain": [
       "<Figure size 1152x432 with 1 Axes>"
      ]
     },
     "metadata": {
      "needs_background": "light"
     },
     "output_type": "display_data"
    }
   ],
   "source": [
    "plt.figure(figsize=(16,6))\n",
    "plt.bar(df_brand.index,df_brand.values,color='#c83c23')\n",
    "plt.xticks(size=16)\n",
    "plt.yticks(size=16)\n",
    "plt.xlabel(\"品牌名称\",size=18)\n",
    "plt.ylabel(\"购买数量\",size=18)\n",
    "plt.title('品牌名称与购买数量的情况',size=28,pad=20)\n",
    "plt.show()"
   ]
  },
  {
   "cell_type": "markdown",
   "metadata": {
    "id": "45D05EBF268C4C23BC9B649C6FE73CF6",
    "jupyter": {},
    "mdEditEnable": false,
    "notebookId": "6048c58f74dfc60016df8841",
    "slideshow": {
     "slide_type": "slide"
    },
    "tags": []
   },
   "source": [
    "大家最喜欢的品牌是samsung、apple、ava。由于部分手机品牌信息缺失用missing代替，missing可能包含很多品牌。所以最喜欢的品牌忽略missing."
   ]
  },
  {
   "cell_type": "code",
   "execution_count": 41,
   "metadata": {
    "id": "941093E54D9244659C436C7A61ECE592",
    "jupyter": {},
    "notebookId": "6048c58f74dfc60016df8841",
    "scrolled": false,
    "slideshow": {
     "slide_type": "slide"
    },
    "tags": []
   },
   "outputs": [
    {
     "data": {
      "text/plain": [
       "[0.02, 23.13, 87.94, 277.75, 18328.68]"
      ]
     },
     "execution_count": 41,
     "metadata": {},
     "output_type": "execute_result"
    }
   ],
   "source": [
    "df['price'].quantile([0,0.25,0.5,0.75,1]).tolist() "
   ]
  },
  {
   "cell_type": "code",
   "execution_count": 42,
   "metadata": {
    "id": "E864BF3CAFD040E09FD70686E85179E0",
    "jupyter": {},
    "notebookId": "6048c58f74dfc60016df8841",
    "scrolled": false,
    "slideshow": {
     "slide_type": "slide"
    },
    "tags": []
   },
   "outputs": [
    {
     "data": {
      "text/plain": [
       "0.02-23.13         147549\n",
       "87.94-277.75       142358\n",
       "277.75-18328.68    139399\n",
       "23.13-87.94        134173\n",
       "Name: price_box, dtype: int64"
      ]
     },
     "execution_count": 42,
     "metadata": {},
     "output_type": "execute_result"
    }
   ],
   "source": [
    "df['price_box'] = pd.cut(df['price'],df['price'].quantile([0,0.25,0.5,0.75,1]).tolist()\n",
    "                    ,labels=['0.02-23.13','23.13-87.94','87.94-277.75','277.75-18328.68'])\n",
    "df['price_box'].value_counts()"
   ]
  },
  {
   "cell_type": "markdown",
   "metadata": {
    "id": "4722200E101E43B28EB50998CFFE1F96",
    "jupyter": {},
    "mdEditEnable": true,
    "notebookId": "6048c58f74dfc60016df8841",
    "slideshow": {
     "slide_type": "slide"
    },
    "tags": []
   },
   "source": [
    "把年龄分为四层，每层的购买人数大致相当"
   ]
  },
  {
   "cell_type": "code",
   "execution_count": 43,
   "metadata": {
    "id": "1A107AAAC34B40B490823443CBD4B133",
    "jupyter": {},
    "notebookId": "6048c58f74dfc60016df8841",
    "scrolled": false,
    "slideshow": {
     "slide_type": "slide"
    },
    "tags": []
   },
   "outputs": [
    {
     "data": {
      "text/html": [
       "<div>\n",
       "<style scoped>\n",
       "    .dataframe tbody tr th:only-of-type {\n",
       "        vertical-align: middle;\n",
       "    }\n",
       "\n",
       "    .dataframe tbody tr th {\n",
       "        vertical-align: top;\n",
       "    }\n",
       "\n",
       "    .dataframe thead th {\n",
       "        text-align: right;\n",
       "    }\n",
       "</style>\n",
       "<table border=\"1\" class=\"dataframe\">\n",
       "  <thead>\n",
       "    <tr style=\"text-align: right;\">\n",
       "      <th></th>\n",
       "      <th>count</th>\n",
       "      <th>mean</th>\n",
       "      <th>std</th>\n",
       "      <th>min</th>\n",
       "      <th>25%</th>\n",
       "      <th>50%</th>\n",
       "      <th>75%</th>\n",
       "      <th>max</th>\n",
       "    </tr>\n",
       "    <tr>\n",
       "      <th>brand</th>\n",
       "      <th></th>\n",
       "      <th></th>\n",
       "      <th></th>\n",
       "      <th></th>\n",
       "      <th></th>\n",
       "      <th></th>\n",
       "      <th></th>\n",
       "      <th></th>\n",
       "    </tr>\n",
       "  </thead>\n",
       "  <tbody>\n",
       "    <tr>\n",
       "      <th>apple</th>\n",
       "      <td>36084.0</td>\n",
       "      <td>720.514260</td>\n",
       "      <td>475.576531</td>\n",
       "      <td>2.29</td>\n",
       "      <td>324.05</td>\n",
       "      <td>740.72</td>\n",
       "      <td>925.67</td>\n",
       "      <td>6018.50</td>\n",
       "    </tr>\n",
       "    <tr>\n",
       "      <th>asus</th>\n",
       "      <td>9118.0</td>\n",
       "      <td>556.995058</td>\n",
       "      <td>348.708996</td>\n",
       "      <td>13.87</td>\n",
       "      <td>305.53</td>\n",
       "      <td>509.24</td>\n",
       "      <td>763.87</td>\n",
       "      <td>4629.61</td>\n",
       "    </tr>\n",
       "    <tr>\n",
       "      <th>ava</th>\n",
       "      <td>26123.0</td>\n",
       "      <td>75.383470</td>\n",
       "      <td>99.421969</td>\n",
       "      <td>0.02</td>\n",
       "      <td>11.55</td>\n",
       "      <td>41.64</td>\n",
       "      <td>138.87</td>\n",
       "      <td>1273.13</td>\n",
       "    </tr>\n",
       "    <tr>\n",
       "      <th>bosch</th>\n",
       "      <td>10206.0</td>\n",
       "      <td>327.873193</td>\n",
       "      <td>246.052661</td>\n",
       "      <td>4.84</td>\n",
       "      <td>133.54</td>\n",
       "      <td>300.90</td>\n",
       "      <td>462.94</td>\n",
       "      <td>1527.75</td>\n",
       "    </tr>\n",
       "    <tr>\n",
       "      <th>huawei</th>\n",
       "      <td>10722.0</td>\n",
       "      <td>207.689580</td>\n",
       "      <td>156.018227</td>\n",
       "      <td>3.22</td>\n",
       "      <td>127.29</td>\n",
       "      <td>162.01</td>\n",
       "      <td>254.61</td>\n",
       "      <td>1157.38</td>\n",
       "    </tr>\n",
       "    <tr>\n",
       "      <th>lg</th>\n",
       "      <td>16696.0</td>\n",
       "      <td>468.235000</td>\n",
       "      <td>332.623621</td>\n",
       "      <td>16.18</td>\n",
       "      <td>300.90</td>\n",
       "      <td>407.38</td>\n",
       "      <td>543.96</td>\n",
       "      <td>11574.05</td>\n",
       "    </tr>\n",
       "    <tr>\n",
       "      <th>missing</th>\n",
       "      <td>27215.0</td>\n",
       "      <td>85.832448</td>\n",
       "      <td>245.522559</td>\n",
       "      <td>0.02</td>\n",
       "      <td>4.14</td>\n",
       "      <td>16.18</td>\n",
       "      <td>55.53</td>\n",
       "      <td>18328.68</td>\n",
       "    </tr>\n",
       "    <tr>\n",
       "      <th>philips</th>\n",
       "      <td>12151.0</td>\n",
       "      <td>83.750141</td>\n",
       "      <td>102.258354</td>\n",
       "      <td>1.60</td>\n",
       "      <td>37.01</td>\n",
       "      <td>50.90</td>\n",
       "      <td>87.94</td>\n",
       "      <td>1157.38</td>\n",
       "    </tr>\n",
       "    <tr>\n",
       "      <th>polaris</th>\n",
       "      <td>10730.0</td>\n",
       "      <td>40.508892</td>\n",
       "      <td>25.025027</td>\n",
       "      <td>4.61</td>\n",
       "      <td>23.13</td>\n",
       "      <td>37.01</td>\n",
       "      <td>47.20</td>\n",
       "      <td>313.63</td>\n",
       "    </tr>\n",
       "    <tr>\n",
       "      <th>samsung</th>\n",
       "      <td>96239.0</td>\n",
       "      <td>300.793594</td>\n",
       "      <td>300.416010</td>\n",
       "      <td>0.02</td>\n",
       "      <td>115.72</td>\n",
       "      <td>208.31</td>\n",
       "      <td>381.92</td>\n",
       "      <td>10416.64</td>\n",
       "    </tr>\n",
       "    <tr>\n",
       "      <th>tefal</th>\n",
       "      <td>17956.0</td>\n",
       "      <td>86.487347</td>\n",
       "      <td>96.431385</td>\n",
       "      <td>2.99</td>\n",
       "      <td>25.44</td>\n",
       "      <td>55.53</td>\n",
       "      <td>105.30</td>\n",
       "      <td>648.13</td>\n",
       "    </tr>\n",
       "    <tr>\n",
       "      <th>xiaomi</th>\n",
       "      <td>14869.0</td>\n",
       "      <td>161.043459</td>\n",
       "      <td>121.421795</td>\n",
       "      <td>0.23</td>\n",
       "      <td>46.27</td>\n",
       "      <td>162.01</td>\n",
       "      <td>231.46</td>\n",
       "      <td>2314.79</td>\n",
       "    </tr>\n",
       "  </tbody>\n",
       "</table>\n",
       "</div>"
      ],
      "text/plain": [
       "           count        mean         std    min     25%     50%     75%  \\\n",
       "brand                                                                     \n",
       "apple    36084.0  720.514260  475.576531   2.29  324.05  740.72  925.67   \n",
       "asus      9118.0  556.995058  348.708996  13.87  305.53  509.24  763.87   \n",
       "ava      26123.0   75.383470   99.421969   0.02   11.55   41.64  138.87   \n",
       "bosch    10206.0  327.873193  246.052661   4.84  133.54  300.90  462.94   \n",
       "huawei   10722.0  207.689580  156.018227   3.22  127.29  162.01  254.61   \n",
       "lg       16696.0  468.235000  332.623621  16.18  300.90  407.38  543.96   \n",
       "missing  27215.0   85.832448  245.522559   0.02    4.14   16.18   55.53   \n",
       "philips  12151.0   83.750141  102.258354   1.60   37.01   50.90   87.94   \n",
       "polaris  10730.0   40.508892   25.025027   4.61   23.13   37.01   47.20   \n",
       "samsung  96239.0  300.793594  300.416010   0.02  115.72  208.31  381.92   \n",
       "tefal    17956.0   86.487347   96.431385   2.99   25.44   55.53  105.30   \n",
       "xiaomi   14869.0  161.043459  121.421795   0.23   46.27  162.01  231.46   \n",
       "\n",
       "              max  \n",
       "brand              \n",
       "apple     6018.50  \n",
       "asus      4629.61  \n",
       "ava       1273.13  \n",
       "bosch     1527.75  \n",
       "huawei    1157.38  \n",
       "lg       11574.05  \n",
       "missing  18328.68  \n",
       "philips   1157.38  \n",
       "polaris    313.63  \n",
       "samsung  10416.64  \n",
       "tefal      648.13  \n",
       "xiaomi    2314.79  "
      ]
     },
     "execution_count": 43,
     "metadata": {},
     "output_type": "execute_result"
    }
   ],
   "source": [
    "df[df['brand'].isin(df_brand.index)].groupby('brand').describe()['price']"
   ]
  },
  {
   "cell_type": "code",
   "execution_count": 44,
   "metadata": {
    "id": "8A242E674D2645C686C3911200FDC90B",
    "jupyter": {},
    "notebookId": "6048c58f74dfc60016df8841",
    "scrolled": false,
    "slideshow": {
     "slide_type": "slide"
    },
    "tags": []
   },
   "outputs": [
    {
     "data": {
      "text/html": [
       "<div>\n",
       "<style scoped>\n",
       "    .dataframe tbody tr th:only-of-type {\n",
       "        vertical-align: middle;\n",
       "    }\n",
       "\n",
       "    .dataframe tbody tr th {\n",
       "        vertical-align: top;\n",
       "    }\n",
       "\n",
       "    .dataframe thead th {\n",
       "        text-align: right;\n",
       "    }\n",
       "</style>\n",
       "<table border=\"1\" class=\"dataframe\">\n",
       "  <thead>\n",
       "    <tr style=\"text-align: right;\">\n",
       "      <th></th>\n",
       "      <th>price</th>\n",
       "    </tr>\n",
       "  </thead>\n",
       "  <tbody>\n",
       "    <tr>\n",
       "      <th>count</th>\n",
       "      <td>400516.000000</td>\n",
       "    </tr>\n",
       "    <tr>\n",
       "      <th>mean</th>\n",
       "      <td>293.369295</td>\n",
       "    </tr>\n",
       "    <tr>\n",
       "      <th>std</th>\n",
       "      <td>397.071623</td>\n",
       "    </tr>\n",
       "    <tr>\n",
       "      <th>min</th>\n",
       "      <td>0.020000</td>\n",
       "    </tr>\n",
       "    <tr>\n",
       "      <th>25%</th>\n",
       "      <td>41.640000</td>\n",
       "    </tr>\n",
       "    <tr>\n",
       "      <th>50%</th>\n",
       "      <td>148.340000</td>\n",
       "    </tr>\n",
       "    <tr>\n",
       "      <th>75%</th>\n",
       "      <td>393.500000</td>\n",
       "    </tr>\n",
       "    <tr>\n",
       "      <th>max</th>\n",
       "      <td>18699.030000</td>\n",
       "    </tr>\n",
       "  </tbody>\n",
       "</table>\n",
       "</div>"
      ],
      "text/plain": [
       "               price\n",
       "count  400516.000000\n",
       "mean      293.369295\n",
       "std       397.071623\n",
       "min         0.020000\n",
       "25%        41.640000\n",
       "50%       148.340000\n",
       "75%       393.500000\n",
       "max     18699.030000"
      ]
     },
     "execution_count": 44,
     "metadata": {},
     "output_type": "execute_result"
    }
   ],
   "source": [
    "df.groupby('order_id')[['price']].sum().describe()"
   ]
  },
  {
   "cell_type": "markdown",
   "metadata": {
    "id": "4B4B182233664EA4BEE7B460493F2F83",
    "jupyter": {},
    "mdEditEnable": false,
    "notebookId": "6048c58f74dfc60016df8841",
    "slideshow": {
     "slide_type": "slide"
    },
    "tags": []
   },
   "source": [
    "75%的人群的购买价格是393，说明75%的人群购买力低，后25%的人群对高价格产品的购买力强。"
   ]
  },
  {
   "cell_type": "markdown",
   "metadata": {},
   "source": [
    "# 下面通过k-means进行聚类分析\n",
    "# 选择华为品牌，分析年龄和消费水平"
   ]
  },
  {
   "cell_type": "code",
   "execution_count": 49,
   "metadata": {},
   "outputs": [
    {
     "data": {
      "text/html": [
       "<div>\n",
       "<style scoped>\n",
       "    .dataframe tbody tr th:only-of-type {\n",
       "        vertical-align: middle;\n",
       "    }\n",
       "\n",
       "    .dataframe tbody tr th {\n",
       "        vertical-align: top;\n",
       "    }\n",
       "\n",
       "    .dataframe thead th {\n",
       "        text-align: right;\n",
       "    }\n",
       "</style>\n",
       "<table border=\"1\" class=\"dataframe\">\n",
       "  <thead>\n",
       "    <tr style=\"text-align: right;\">\n",
       "      <th></th>\n",
       "      <th>price</th>\n",
       "      <th>age</th>\n",
       "    </tr>\n",
       "  </thead>\n",
       "  <tbody>\n",
       "    <tr>\n",
       "      <th>2</th>\n",
       "      <td>77.52</td>\n",
       "      <td>38.0</td>\n",
       "    </tr>\n",
       "    <tr>\n",
       "      <th>3</th>\n",
       "      <td>77.52</td>\n",
       "      <td>38.0</td>\n",
       "    </tr>\n",
       "    <tr>\n",
       "      <th>33</th>\n",
       "      <td>77.52</td>\n",
       "      <td>38.0</td>\n",
       "    </tr>\n",
       "    <tr>\n",
       "      <th>57</th>\n",
       "      <td>138.63</td>\n",
       "      <td>17.0</td>\n",
       "    </tr>\n",
       "    <tr>\n",
       "      <th>117</th>\n",
       "      <td>254.61</td>\n",
       "      <td>43.0</td>\n",
       "    </tr>\n",
       "    <tr>\n",
       "      <th>...</th>\n",
       "      <td>...</td>\n",
       "      <td>...</td>\n",
       "    </tr>\n",
       "    <tr>\n",
       "      <th>563834</th>\n",
       "      <td>231.46</td>\n",
       "      <td>23.0</td>\n",
       "    </tr>\n",
       "    <tr>\n",
       "      <th>563947</th>\n",
       "      <td>300.90</td>\n",
       "      <td>23.0</td>\n",
       "    </tr>\n",
       "    <tr>\n",
       "      <th>564032</th>\n",
       "      <td>324.05</td>\n",
       "      <td>25.0</td>\n",
       "    </tr>\n",
       "    <tr>\n",
       "      <th>564139</th>\n",
       "      <td>300.90</td>\n",
       "      <td>35.0</td>\n",
       "    </tr>\n",
       "    <tr>\n",
       "      <th>564156</th>\n",
       "      <td>185.16</td>\n",
       "      <td>47.0</td>\n",
       "    </tr>\n",
       "  </tbody>\n",
       "</table>\n",
       "<p>10722 rows × 2 columns</p>\n",
       "</div>"
      ],
      "text/plain": [
       "         price   age\n",
       "2        77.52  38.0\n",
       "3        77.52  38.0\n",
       "33       77.52  38.0\n",
       "57      138.63  17.0\n",
       "117     254.61  43.0\n",
       "...        ...   ...\n",
       "563834  231.46  23.0\n",
       "563947  300.90  23.0\n",
       "564032  324.05  25.0\n",
       "564139  300.90  35.0\n",
       "564156  185.16  47.0\n",
       "\n",
       "[10722 rows x 2 columns]"
      ]
     },
     "execution_count": 49,
     "metadata": {},
     "output_type": "execute_result"
    }
   ],
   "source": [
    "df_new = df.loc[:,['price','age','brand']]\n",
    "#截取分析华为需要的数据块\n",
    "df_huawei=df_new.loc[df_new['brand'] == 'huawei']\n",
    "df_huawei = df_huawei.loc[:,['price','age']]\n",
    "#保存值方便预处理后恢复\n",
    "age_max=df_huawei['age'].max()\n",
    "age_min=df_huawei['age'].min()\n",
    "price_max=df_huawei['price'].max()\n",
    "price_min=df_huawei['price'].min()\n",
    "df_huawei"
   ]
  },
  {
   "cell_type": "code",
   "execution_count": 50,
   "metadata": {},
   "outputs": [
    {
     "data": {
      "text/html": [
       "<div>\n",
       "<style scoped>\n",
       "    .dataframe tbody tr th:only-of-type {\n",
       "        vertical-align: middle;\n",
       "    }\n",
       "\n",
       "    .dataframe tbody tr th {\n",
       "        vertical-align: top;\n",
       "    }\n",
       "\n",
       "    .dataframe thead th {\n",
       "        text-align: right;\n",
       "    }\n",
       "</style>\n",
       "<table border=\"1\" class=\"dataframe\">\n",
       "  <thead>\n",
       "    <tr style=\"text-align: right;\">\n",
       "      <th></th>\n",
       "      <th>price</th>\n",
       "      <th>age</th>\n",
       "    </tr>\n",
       "  </thead>\n",
       "  <tbody>\n",
       "    <tr>\n",
       "      <th>0</th>\n",
       "      <td>0.064376</td>\n",
       "      <td>0.647059</td>\n",
       "    </tr>\n",
       "    <tr>\n",
       "      <th>1</th>\n",
       "      <td>0.064376</td>\n",
       "      <td>0.647059</td>\n",
       "    </tr>\n",
       "    <tr>\n",
       "      <th>2</th>\n",
       "      <td>0.064376</td>\n",
       "      <td>0.647059</td>\n",
       "    </tr>\n",
       "    <tr>\n",
       "      <th>3</th>\n",
       "      <td>0.117323</td>\n",
       "      <td>0.029412</td>\n",
       "    </tr>\n",
       "    <tr>\n",
       "      <th>4</th>\n",
       "      <td>0.217812</td>\n",
       "      <td>0.794118</td>\n",
       "    </tr>\n",
       "    <tr>\n",
       "      <th>...</th>\n",
       "      <td>...</td>\n",
       "      <td>...</td>\n",
       "    </tr>\n",
       "    <tr>\n",
       "      <th>10717</th>\n",
       "      <td>0.197754</td>\n",
       "      <td>0.205882</td>\n",
       "    </tr>\n",
       "    <tr>\n",
       "      <th>10718</th>\n",
       "      <td>0.257919</td>\n",
       "      <td>0.205882</td>\n",
       "    </tr>\n",
       "    <tr>\n",
       "      <th>10719</th>\n",
       "      <td>0.277977</td>\n",
       "      <td>0.264706</td>\n",
       "    </tr>\n",
       "    <tr>\n",
       "      <th>10720</th>\n",
       "      <td>0.257919</td>\n",
       "      <td>0.558824</td>\n",
       "    </tr>\n",
       "    <tr>\n",
       "      <th>10721</th>\n",
       "      <td>0.157638</td>\n",
       "      <td>0.911765</td>\n",
       "    </tr>\n",
       "  </tbody>\n",
       "</table>\n",
       "<p>10722 rows × 2 columns</p>\n",
       "</div>"
      ],
      "text/plain": [
       "          price       age\n",
       "0      0.064376  0.647059\n",
       "1      0.064376  0.647059\n",
       "2      0.064376  0.647059\n",
       "3      0.117323  0.029412\n",
       "4      0.217812  0.794118\n",
       "...         ...       ...\n",
       "10717  0.197754  0.205882\n",
       "10718  0.257919  0.205882\n",
       "10719  0.277977  0.264706\n",
       "10720  0.257919  0.558824\n",
       "10721  0.157638  0.911765\n",
       "\n",
       "[10722 rows x 2 columns]"
      ]
     },
     "execution_count": 50,
     "metadata": {},
     "output_type": "execute_result"
    }
   ],
   "source": [
    "#输入预处理，防止输入量不同维度不在同一数量级上，造成偏差\n",
    "ms=MinMaxScaler()\n",
    "df_huawei_procing=ms.fit_transform(df_huawei)\n",
    "df_huawei=pd.DataFrame(df_huawei_procing,columns=df_huawei.columns)\n",
    "df_huawei"
   ]
  },
  {
   "cell_type": "code",
   "execution_count": 51,
   "metadata": {},
   "outputs": [
    {
     "name": "stdout",
     "output_type": "stream",
     "text": [
      "KMeans(n_clusters=4, random_state=0)\n",
      "          price       age  labels\n",
      "0      0.064376  0.647059       2\n",
      "1      0.064376  0.647059       2\n",
      "2      0.064376  0.647059       2\n",
      "3      0.117323  0.029412       1\n",
      "4      0.217812  0.794118       0\n",
      "...         ...       ...     ...\n",
      "10717  0.197754  0.205882       1\n",
      "10718  0.257919  0.205882       1\n",
      "10719  0.277977  0.264706       1\n",
      "10720  0.257919  0.558824       2\n",
      "10721  0.157638  0.911765       0\n",
      "\n",
      "[10722 rows x 3 columns]\n"
     ]
    }
   ],
   "source": [
    "k_means_huawei = KMeans(n_clusters = 4, random_state = 0) #设置模型参数\n",
    "k_means_huawei.fit(df_huawei)  #构建模型\n",
    "print(k_means_huawei)\n",
    "df_huawei['labels'] = k_means_huawei.labels_  #划分后的类别\n",
    "print(df_huawei)"
   ]
  },
  {
   "cell_type": "code",
   "execution_count": 52,
   "metadata": {},
   "outputs": [
    {
     "data": {
      "text/plain": [
       "array([[189.33814825,  44.61978579],\n",
       "       [187.1059467 ,  20.94267121],\n",
       "       [180.48549582,  32.21754875],\n",
       "       [849.69778711,  33.05882353]])"
      ]
     },
     "execution_count": 52,
     "metadata": {},
     "output_type": "execute_result"
    }
   ],
   "source": [
    "#预处理过的数据恢复\n",
    "df_huawei['labels'].value_counts() #每个类别出现的频数\n",
    "k_huawei_center = k_means_huawei.cluster_centers_  #对应分4类的4个指标中心点，中心点的距离算出的4类\n",
    "k_huawei_center[:,0] = k_huawei_center[:,0]*(price_max-price_min)+price_min\n",
    "k_huawei_center[:,1] = k_huawei_center[:,1]*(age_max-age_min)+age_min\n",
    "k_huawei_center"
   ]
  },
  {
   "cell_type": "markdown",
   "metadata": {},
   "source": [
    "# **下面的对apple的分析与华为相同**"
   ]
  },
  {
   "cell_type": "code",
   "execution_count": 53,
   "metadata": {
    "scrolled": true
   },
   "outputs": [
    {
     "name": "stdout",
     "output_type": "stream",
     "text": [
      "KMeans(n_clusters=4, random_state=0)\n",
      "          price       age  labels\n",
      "0      0.230165  0.147059       3\n",
      "1      0.230165  0.147059       3\n",
      "2      0.230165  0.147059       3\n",
      "3      0.230165  0.147059       3\n",
      "4      0.033475  0.647059       2\n",
      "...         ...       ...     ...\n",
      "36079  0.166987  0.117647       3\n",
      "36080  0.153482  0.558824       2\n",
      "36081  0.153482  0.323529       1\n",
      "36082  0.153482  0.470588       1\n",
      "36083  0.069258  0.147059       3\n",
      "\n",
      "[36084 rows x 3 columns]\n"
     ]
    },
    {
     "data": {
      "text/plain": [
       "array([[728.55606514,  45.99316604],\n",
       "       [719.37734694,  28.4668654 ],\n",
       "       [709.04050268,  36.95728836],\n",
       "       [724.95498985,  20.00733138]])"
      ]
     },
     "execution_count": 53,
     "metadata": {},
     "output_type": "execute_result"
    }
   ],
   "source": [
    "#截取分析apple需要的数据块\n",
    "df_apple=df_new.loc[df_new['brand'] == 'apple']\n",
    "df_apple = df_apple.loc[:,['price','age']]\n",
    "#保存值方便预处理后恢复\n",
    "age_max=df_apple['age'].max()\n",
    "age_min=df_apple['age'].min()\n",
    "price_max=df_apple['price'].max()\n",
    "price_min=df_apple['price'].min()\n",
    "df_apple\n",
    "#输入预处理，防止输入量不同维度不在同一数量级上，造成偏差\n",
    "ms=MinMaxScaler()\n",
    "df_apple_procing=ms.fit_transform(df_apple)\n",
    "df_apple=pd.DataFrame(df_apple_procing,columns=df_apple.columns)\n",
    "df_apple\n",
    "k_means_apple = KMeans(n_clusters = 4, random_state = 0) #设置模型参数\n",
    "k_means_apple.fit(df_apple)  #构建模型\n",
    "print(k_means_apple)\n",
    "df_apple['labels'] = k_means_apple.labels_  #划分后的类别\n",
    "print(df_apple)\n",
    "#预处理过的数据恢复\n",
    "df_apple['labels'].value_counts() #每个类别出现的频数\n",
    "k_apple_center = k_means_apple.cluster_centers_  #对应分4类的4个指标中心点，中心点的距离算出的4类\n",
    "k_apple_center[:,0] = k_apple_center[:,0]*(price_max-price_min)+price_min\n",
    "k_apple_center[:,1] = k_apple_center[:,1]*(age_max-age_min)+age_min\n",
    "k_apple_center"
   ]
  }
 ],
 "metadata": {
  "kernelspec": {
   "display_name": "Python [conda env:root] *",
   "language": "python",
   "name": "conda-root-py"
  },
  "language_info": {
   "codemirror_mode": {
    "name": "ipython",
    "version": 3
   },
   "file_extension": ".py",
   "mimetype": "text/x-python",
   "name": "python",
   "nbconvert_exporter": "python",
   "pygments_lexer": "ipython3",
   "version": "3.7.10"
  }
 },
 "nbformat": 4,
 "nbformat_minor": 1
}
